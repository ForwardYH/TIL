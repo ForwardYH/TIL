{
 "cells": [
  {
   "cell_type": "markdown",
   "metadata": {},
   "source": [
    "# Reference\n",
    "- https://nomade.kr/vod/python/ : AskDjango 자료를 참고했습니다."
   ]
  },
  {
   "cell_type": "markdown",
   "metadata": {},
   "source": [
    "# 상속 (Inheritance)\n",
    "\n",
    "- 클래스 간에 상속관계에 놓이게 되면, 부모/자식 관계가 성립\n",
    "- 자식 클래스는 부모 클래스의 모든 내역을 물려받음\n",
    "- 다중상속 지원 : 직계 부모가 다수"
   ]
  },
  {
   "cell_type": "code",
   "execution_count": 2,
   "metadata": {
    "collapsed": true
   },
   "outputs": [],
   "source": [
    "class Person:\n",
    "    def __init__(self, name):\n",
    "        self.name = name\n",
    "        \n",
    "    def run(self):\n",
    "        print('뜁니다')\n",
    "        \n",
    "    def eat(self, food):\n",
    "        print('{}을 먹습니다'.format(food))\n",
    "        \n",
    "    def sleep(self):\n",
    "        print('잠을 잡니다')\n",
    "        \n",
    "    def study(self, target):\n",
    "        print('{}을 열심히 공부합니다'.format(target))\n",
    "        \n",
    "class Doctor(Person): #Person 클래스를 상속을 받았음, 부모 자식 관계\n",
    "    \n",
    "    def rearch(self):\n",
    "        print(\"열심히 연구합니다\")\n",
    "        \n",
    "class Programmer(Person):\n",
    "    \n",
    "    def coding(self):\n",
    "        print(\"열심히 코딩합니다\")\n",
    "        \n",
    "class Designer(Person):\n",
    "    \n",
    "    def design(self):\n",
    "        print(\"열심히 디자인을 합니다.\")"
   ]
  },
  {
   "cell_type": "code",
   "execution_count": 7,
   "metadata": {},
   "outputs": [
    {
     "name": "stdout",
     "output_type": "stream",
     "text": [
      "잠을 잡니다\n",
      "심장을 열심히 공부합니다\n",
      "잠을 잡니다\n"
     ]
    }
   ],
   "source": [
    "doctor = Doctor('Tom')\n",
    "doctor.sleep()\n",
    "doctor.study('심장')\n",
    "programmer = Programmer('Mark')\n",
    "programmer.sleep()"
   ]
  },
  {
   "cell_type": "markdown",
   "metadata": {},
   "source": [
    "# MRO(Method Resolution Order)\n",
    "- 파이썬의 탐색 순서는 MRO를 따른다\n",
    "- Class.mro를 통해 확인 가능\n",
    "- MRO가 꼬이도록 클래스를 설계할 수는 없음"
   ]
  },
  {
   "cell_type": "code",
   "execution_count": 9,
   "metadata": {},
   "outputs": [
    {
     "data": {
      "text/plain": [
       "<function Doctor.mro>"
      ]
     },
     "execution_count": 9,
     "metadata": {},
     "output_type": "execute_result"
    }
   ],
   "source": [
    "Doctor.mro"
   ]
  },
  {
   "cell_type": "code",
   "execution_count": 20,
   "metadata": {
    "collapsed": true
   },
   "outputs": [],
   "source": [
    "class A: \n",
    "    def fn(self): \n",
    "        print(\"called A.fn()\")\n",
    "class B(A): \n",
    "    def fn(self): \n",
    "        super().fn()\n",
    "        print(\"called B.fn()\")\n",
    "class C(A): \n",
    "    def fn(self):\n",
    "        super().fn()\n",
    "        print(\"called C.fn()\")\n",
    "class D(B, C): \n",
    "    def fn(self): \n",
    "        super().fn()\n",
    "        print(\"called D.fn()\")\n",
    "class E(C, B): \n",
    "    def fn(self): \n",
    "        super().fn()\n",
    "        print(\"called E.fn()\")"
   ]
  },
  {
   "cell_type": "code",
   "execution_count": 16,
   "metadata": {},
   "outputs": [
    {
     "ename": "TypeError",
     "evalue": "Cannot create a consistent method resolution\norder (MRO) for bases B, C",
     "output_type": "error",
     "traceback": [
      "\u001b[1;31m---------------------------------------------------------------------------\u001b[0m",
      "\u001b[1;31mTypeError\u001b[0m                                 Traceback (most recent call last)",
      "\u001b[1;32m<ipython-input-16-ac148e9f3b7f>\u001b[0m in \u001b[0;36m<module>\u001b[1;34m()\u001b[0m\n\u001b[1;32m----> 1\u001b[1;33m \u001b[1;32mclass\u001b[0m \u001b[0mF\u001b[0m\u001b[1;33m(\u001b[0m\u001b[0mD\u001b[0m\u001b[1;33m,\u001b[0m \u001b[0mE\u001b[0m\u001b[1;33m)\u001b[0m\u001b[1;33m:\u001b[0m \u001b[1;32mpass\u001b[0m\u001b[1;33m\u001b[0m\u001b[0m\n\u001b[0m",
      "\u001b[1;31mTypeError\u001b[0m: Cannot create a consistent method resolution\norder (MRO) for bases B, C"
     ]
    }
   ],
   "source": [
    "class F(D, E): pass"
   ]
  },
  {
   "cell_type": "code",
   "execution_count": 11,
   "metadata": {},
   "outputs": [
    {
     "data": {
      "text/plain": [
       "[__main__.A, object]"
      ]
     },
     "execution_count": 11,
     "metadata": {},
     "output_type": "execute_result"
    }
   ],
   "source": [
    "A.mro()"
   ]
  },
  {
   "cell_type": "code",
   "execution_count": 12,
   "metadata": {},
   "outputs": [
    {
     "data": {
      "text/plain": [
       "[__main__.B, __main__.A, object]"
      ]
     },
     "execution_count": 12,
     "metadata": {},
     "output_type": "execute_result"
    }
   ],
   "source": [
    "B.mro()"
   ]
  },
  {
   "cell_type": "code",
   "execution_count": 13,
   "metadata": {},
   "outputs": [
    {
     "data": {
      "text/plain": [
       "[__main__.C, __main__.A, object]"
      ]
     },
     "execution_count": 13,
     "metadata": {},
     "output_type": "execute_result"
    }
   ],
   "source": [
    "C.mro()"
   ]
  },
  {
   "cell_type": "code",
   "execution_count": 14,
   "metadata": {},
   "outputs": [
    {
     "data": {
      "text/plain": [
       "[__main__.D, __main__.B, __main__.C, __main__.A, object]"
      ]
     },
     "execution_count": 14,
     "metadata": {},
     "output_type": "execute_result"
    }
   ],
   "source": [
    "D.mro()"
   ]
  },
  {
   "cell_type": "code",
   "execution_count": 15,
   "metadata": {},
   "outputs": [
    {
     "data": {
      "text/plain": [
       "[__main__.E, __main__.C, __main__.B, __main__.A, object]"
      ]
     },
     "execution_count": 15,
     "metadata": {},
     "output_type": "execute_result"
    }
   ],
   "source": [
    "E.mro()"
   ]
  },
  {
   "cell_type": "markdown",
   "metadata": {},
   "source": [
    "### 부모의 함수 호출\n",
    "\n",
    "- 내장함수 super를 통해 부모의 함수 호출\n",
    "    - D의 mro 순서는 D -> B ->  C -> A\n",
    "    - D().fn()의 실행결과로서 A C B D가 출력\n",
    "- super 호출 시에 MRO에 기반하여 호출"
   ]
  },
  {
   "cell_type": "code",
   "execution_count": 24,
   "metadata": {},
   "outputs": [
    {
     "name": "stdout",
     "output_type": "stream",
     "text": [
      "called A.fn()\n",
      "called C.fn()\n",
      "called B.fn()\n",
      "called D.fn()\n"
     ]
    }
   ],
   "source": [
    "D().fn()"
   ]
  },
  {
   "cell_type": "code",
   "execution_count": 36,
   "metadata": {
    "collapsed": true
   },
   "outputs": [],
   "source": [
    "class A:\n",
    "    def fn(self, arg):\n",
    "        print('A', arg)\n",
    "class B(A):\n",
    "    def fn(self, arg):\n",
    "        super().fn(arg)\n",
    "        print('B', arg)\n",
    "class C(A):\n",
    "    def fn(self, arg):\n",
    "        super().fn(arg)\n",
    "        print('C', arg)\n",
    "class D(B, C):\n",
    "    def fn(self, arg):\n",
    "        super().fn(arg)\n",
    "        print('D', arg)"
   ]
  },
  {
   "cell_type": "code",
   "execution_count": 34,
   "metadata": {},
   "outputs": [
    {
     "name": "stdout",
     "output_type": "stream",
     "text": [
      "A Python\n",
      "C Python\n",
      "B Python\n",
      "D Python\n"
     ]
    }
   ],
   "source": [
    "D().fn('Python')"
   ]
  }
 ],
 "metadata": {
  "kernelspec": {
   "display_name": "Python 3",
   "language": "python",
   "name": "python3"
  },
  "language_info": {
   "codemirror_mode": {
    "name": "ipython",
    "version": 3
   },
   "file_extension": ".py",
   "mimetype": "text/x-python",
   "name": "python",
   "nbconvert_exporter": "python",
   "pygments_lexer": "ipython3",
   "version": "3.6.2"
  }
 },
 "nbformat": 4,
 "nbformat_minor": 1
}
