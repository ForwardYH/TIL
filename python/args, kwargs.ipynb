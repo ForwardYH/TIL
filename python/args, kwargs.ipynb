{
 "cells": [
  {
   "cell_type": "markdown",
   "metadata": {},
   "source": [
    "### args와  kwargs 이해하기\n",
    "\n",
    "* args와 kwargs는 가변 갯수의 인자들을 함수에 넣어줌.\n",
    "    * 가변 갯수의 인자라 함은, 사용자들이 얼마나 많은 인자들을 함수에 넣을지 모르는, 즉 갯수가 변할 수 있는 상황에서 args와 kwargs를 사용할 수 있다는 의미\n",
    "    \n",
    "    "
   ]
  },
  {
   "cell_type": "markdown",
   "metadata": {},
   "source": [
    "args는 **키워드 되지 않은** 가변 갯수의 인자들을 함수에 보낼 때 사용"
   ]
  },
  {
   "cell_type": "code",
   "execution_count": 2,
   "metadata": {},
   "outputs": [
    {
     "name": "stdout",
     "output_type": "stream",
     "text": [
      "첫 번째 인자 : hello\n",
      "*args의 1번째 다른 인자 : using\n",
      "*args의 2번째 다른 인자 : python\n",
      "*args의 3번째 다른 인자 : is\n",
      "*args의 4번째 다른 인자 : so\n",
      "*args의 5번째 다른 인자 : good\n"
     ]
    }
   ],
   "source": [
    "def nonkeyword_arguments(f_arg, *args):\n",
    "    print(\"첫 번째 인자 :\", f_arg)\n",
    "    for idx, arg in enumerate(args):\n",
    "        print(\"*args의 {}번째 다른 인자 : {}\".format(idx+1, arg))\n",
    "        \n",
    "nonkeyword_arguments('hello', 'using', 'python', 'is', 'so', 'good')"
   ]
  },
  {
   "cell_type": "markdown",
   "metadata": {},
   "source": [
    "kwargs는 **키워드 된** 가변 갯수의 인자들을 함수에 보낼 때 사용"
   ]
  },
  {
   "cell_type": "code",
   "execution_count": 16,
   "metadata": {},
   "outputs": [
    {
     "name": "stdout",
     "output_type": "stream",
     "text": [
      "{'language': 'python', 'name': 'youngho', 'passion': 'development'}\n"
     ]
    }
   ],
   "source": [
    "def display_stuff(**kwargs):\n",
    "    if kwargs is not None:\n",
    "        print(kwargs)\n",
    "display_stuff(language='python', name='youngho', passion='development')"
   ]
  },
  {
   "cell_type": "code",
   "execution_count": 6,
   "metadata": {},
   "outputs": [
    {
     "name": "stdout",
     "output_type": "stream",
     "text": [
      "c++ : 3\n",
      "java : 2\n",
      "python : 1\n"
     ]
    }
   ],
   "source": [
    "def keyword_arguments(**kwargs):\n",
    "    if kwargs is not None:\n",
    "        for key, value in kwargs.items():\n",
    "            print('{} : {}'.format(key, value))\n",
    "            \n",
    "kwargs = {'python' : 1, 'java' : 2, 'c++' : 3}\n",
    "keyword_arguments(**kwargs)"
   ]
  },
  {
   "cell_type": "code",
   "execution_count": 29,
   "metadata": {},
   "outputs": [
    {
     "name": "stdout",
     "output_type": "stream",
     "text": [
      "development\n"
     ]
    }
   ],
   "source": [
    "def check_arguments(**kwargs):\n",
    "    if kwargs is not None and 'passion' in kwargs:\n",
    "        print(kwargs['passion'])\n",
    "check_arguments(language='python', name='youngho', passion='development')"
   ]
  },
  {
   "cell_type": "markdown",
   "metadata": {},
   "source": [
    "* args와 kwargs 같이 써보기"
   ]
  },
  {
   "cell_type": "code",
   "execution_count": 7,
   "metadata": {},
   "outputs": [
    {
     "name": "stdout",
     "output_type": "stream",
     "text": [
      "첫 번째 인자 :  Hi\n",
      "*args의 1번째 다른 인자 : hello\n",
      "*args의 2번째 다른 인자 : using\n",
      "*args의 3번째 다른 인자 : python\n",
      "*args의 4번째 다른 인자 : is\n",
      "*args의 5번째 다른 인자 : so\n",
      "*args의 6번째 다른 인자 : good\n",
      "\n",
      "c++ : 3\n",
      "ruby : 4\n",
      "java : 2\n",
      "python : 1\n"
     ]
    }
   ],
   "source": [
    "def using_combine_args_kwargs(f_arg, *args, **kwargs):\n",
    "    print('첫 번째 인자 : ', f_arg)\n",
    "    for idx, arg in enumerate(args):\n",
    "        print(\"*args의 {}번째 다른 인자 : {}\".format(idx+1, arg))\n",
    "    print()\n",
    "    for key, value in kwargs.items():\n",
    "        print(\"{} : {}\".format(key, value))\n",
    "        \n",
    "args = ('hello', 'using', 'python', 'is', 'so', 'good')\n",
    "kwargs = {'python' : 1, 'java' : 2, 'c++' : 3, 'ruby' : 4}\n",
    "using_combine_args_kwargs('Hi', *args, **kwargs)"
   ]
  },
  {
   "cell_type": "code",
   "execution_count": 22,
   "metadata": {},
   "outputs": [
    {
     "name": "stdout",
     "output_type": "stream",
     "text": [
      "인자1 : hello\n",
      "인자2 : using\n",
      "인자3 : python\n"
     ]
    }
   ],
   "source": [
    "def test_args_kwargs(arg1, arg2, arg3):\n",
    "    print(\"인자1 :\", arg1)\n",
    "    print(\"인자2 :\", arg2)\n",
    "    print(\"인자3 :\", arg3)\n",
    "    \n",
    "args = ('hello', 'using', 'python')\n",
    "test_args_kwargs(*args)"
   ]
  },
  {
   "cell_type": "code",
   "execution_count": 31,
   "metadata": {},
   "outputs": [
    {
     "name": "stdout",
     "output_type": "stream",
     "text": [
      "인자1 : 4\n",
      "인자2 : 3\n",
      "인자3 : 1\n"
     ]
    }
   ],
   "source": [
    "kwargs = {'arg3': 1, 'arg2' : 3, 'arg1' : 4}# 키값과 함수의 인자이름이 같아야 함\n",
    "test_args_kwargs(**kwargs)"
   ]
  }
 ],
 "metadata": {
  "kernelspec": {
   "display_name": "Python 3",
   "language": "python",
   "name": "python3"
  },
  "language_info": {
   "codemirror_mode": {
    "name": "ipython",
    "version": 3
   },
   "file_extension": ".py",
   "mimetype": "text/x-python",
   "name": "python",
   "nbconvert_exporter": "python",
   "pygments_lexer": "ipython3",
   "version": "3.5.3"
  }
 },
 "nbformat": 4,
 "nbformat_minor": 2
}
