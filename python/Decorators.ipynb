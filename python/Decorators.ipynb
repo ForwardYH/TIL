{
 "cells": [
  {
   "cell_type": "markdown",
   "metadata": {},
   "source": [
    "# Reference\n",
    "* https://ddanggle.gitbooks.io/interpy-kr/content/ch7-Decorators.html\n",
    "* 패스트캠퍼스 수업자료"
   ]
  },
  {
   "cell_type": "markdown",
   "metadata": {},
   "source": [
    "# Decorators\n",
    "* 다른 함수의 기능을 조작하는 함수\n",
    "* 코드를 간결하고 더 파이썬스럽게 만들 수 있도록 도와준다."
   ]
  },
  {
   "cell_type": "markdown",
   "metadata": {},
   "source": [
    "### Python의 모든 것은 객체이다!"
   ]
  },
  {
   "cell_type": "code",
   "execution_count": 1,
   "metadata": {},
   "outputs": [
    {
     "name": "stdout",
     "output_type": "stream",
     "text": [
      "hi youngho\n"
     ]
    }
   ],
   "source": [
    "def hi(name=\"youngho\"):\n",
    "    return \"hi \" + name\n",
    "\n",
    "print(hi())"
   ]
  },
  {
   "cell_type": "code",
   "execution_count": 2,
   "metadata": {},
   "outputs": [
    {
     "name": "stdout",
     "output_type": "stream",
     "text": [
      "hi youngho\n"
     ]
    }
   ],
   "source": [
    "greet = hi\n",
    "print(greet())"
   ]
  },
  {
   "cell_type": "code",
   "execution_count": 3,
   "metadata": {},
   "outputs": [
    {
     "ename": "NameError",
     "evalue": "name 'hi' is not defined",
     "output_type": "error",
     "traceback": [
      "\u001b[1;31m---------------------------------------------------------------------------\u001b[0m",
      "\u001b[1;31mNameError\u001b[0m                                 Traceback (most recent call last)",
      "\u001b[1;32m<ipython-input-3-ac3e6ce8a695>\u001b[0m in \u001b[0;36m<module>\u001b[1;34m()\u001b[0m\n\u001b[0;32m      1\u001b[0m \u001b[1;32mdel\u001b[0m \u001b[0mhi\u001b[0m\u001b[1;33m\u001b[0m\u001b[0m\n\u001b[1;32m----> 2\u001b[1;33m \u001b[0mprint\u001b[0m\u001b[1;33m(\u001b[0m\u001b[0mhi\u001b[0m\u001b[1;33m(\u001b[0m\u001b[1;33m)\u001b[0m\u001b[1;33m)\u001b[0m\u001b[1;33m\u001b[0m\u001b[0m\n\u001b[0m",
      "\u001b[1;31mNameError\u001b[0m: name 'hi' is not defined"
     ]
    }
   ],
   "source": [
    "del hi\n",
    "print(hi())"
   ]
  },
  {
   "cell_type": "code",
   "execution_count": 4,
   "metadata": {},
   "outputs": [
    {
     "name": "stdout",
     "output_type": "stream",
     "text": [
      "hi youngho\n"
     ]
    }
   ],
   "source": [
    "print(greet())"
   ]
  },
  {
   "cell_type": "markdown",
   "metadata": {},
   "source": [
    "### 함수 내에서 함수 정의하기"
   ]
  },
  {
   "cell_type": "code",
   "execution_count": 5,
   "metadata": {},
   "outputs": [
    {
     "name": "stdout",
     "output_type": "stream",
     "text": [
      "You are in hi() function\n",
      "hi youngho\n",
      "You are in welcome() function\n",
      "Now, you are in hi() function \n"
     ]
    }
   ],
   "source": [
    "def hi(name=\"greet\"):\n",
    "    print(\"You are in hi() function\")\n",
    "    \n",
    "    def greets():\n",
    "        return \"You are in greet() function\"\n",
    "    \n",
    "    def welcome():\n",
    "        return \"You are in welcome() function\"\n",
    "    \n",
    "    print(greet())\n",
    "    print(welcome())\n",
    "    print(\"Now, you are in hi() function \")\n",
    "hi()"
   ]
  },
  {
   "cell_type": "markdown",
   "metadata": {},
   "source": [
    "* greets(), welcome() 함수는 hi()함수 밖에서는 접근 불가"
   ]
  },
  {
   "cell_type": "code",
   "execution_count": 6,
   "metadata": {},
   "outputs": [
    {
     "ename": "NameError",
     "evalue": "name 'greets' is not defined",
     "output_type": "error",
     "traceback": [
      "\u001b[1;31m---------------------------------------------------------------------------\u001b[0m",
      "\u001b[1;31mNameError\u001b[0m                                 Traceback (most recent call last)",
      "\u001b[1;32m<ipython-input-6-c839c9b2f918>\u001b[0m in \u001b[0;36m<module>\u001b[1;34m()\u001b[0m\n\u001b[1;32m----> 1\u001b[1;33m \u001b[0mgreets\u001b[0m\u001b[1;33m(\u001b[0m\u001b[1;33m)\u001b[0m\u001b[1;33m\u001b[0m\u001b[0m\n\u001b[0m",
      "\u001b[1;31mNameError\u001b[0m: name 'greets' is not defined"
     ]
    }
   ],
   "source": [
    "greets()"
   ]
  },
  {
   "cell_type": "markdown",
   "metadata": {},
   "source": [
    "### 함수 내에서 함수 반환\n",
    "* 다른 함수 내에서 함수를 실행할 필요는 없으며 출력으로도 반환할 수 있음"
   ]
  },
  {
   "cell_type": "code",
   "execution_count": 7,
   "metadata": {},
   "outputs": [
    {
     "name": "stdout",
     "output_type": "stream",
     "text": [
      "<function hi.<locals>.greet at 0x000001ACC3E21BF8>\n",
      "Now, you are in greet() function\n"
     ]
    }
   ],
   "source": [
    "def hi(name=\"youngho\"):\n",
    "    def greet():\n",
    "        return \"Now, you are in greet() function\"\n",
    "    \n",
    "    def welcome():\n",
    "        return \"Now, you are in welcome() function\"\n",
    "    \n",
    "    if name==\"youngho\":\n",
    "        return greet\n",
    "    else:\n",
    "        return welcome\n",
    "    \n",
    "a = hi()\n",
    "print(a) # 'a'가 hi() 함수 안의 greet() 함수를 가리키고 있음.\n",
    "print(a())"
   ]
  },
  {
   "cell_type": "code",
   "execution_count": 8,
   "metadata": {},
   "outputs": [
    {
     "name": "stdout",
     "output_type": "stream",
     "text": [
      "<function hi.<locals>.welcome at 0x000001ACC3E21950>\n",
      "Now, you are in welcome() function\n"
     ]
    }
   ],
   "source": [
    "b = hi(name=\"ali\")\n",
    "print(b)\n",
    "print(b())"
   ]
  },
  {
   "cell_type": "markdown",
   "metadata": {},
   "source": [
    "### 함수를 다른 함수의 인자로 지정"
   ]
  },
  {
   "cell_type": "code",
   "execution_count": 9,
   "metadata": {},
   "outputs": [
    {
     "name": "stdout",
     "output_type": "stream",
     "text": [
      "hi()가 실행되기 전에 좀 지루한 일을 먼저 해야 해요.\n",
      "hi youngho\n"
     ]
    }
   ],
   "source": [
    "def hi():\n",
    "    return \"hi youngho\"\n",
    "\n",
    "def doSomethingBeforeHI(func):\n",
    "    print(\"hi()가 실행되기 전에 좀 지루한 일을 먼저 해야 해요.\")\n",
    "    print(func())\n",
    "    \n",
    "doSomethingBeforeHI(hi)"
   ]
  },
  {
   "cell_type": "markdown",
   "metadata": {},
   "source": [
    "### 첫번째 데코레이터 작성하기"
   ]
  },
  {
   "cell_type": "code",
   "execution_count": 44,
   "metadata": {},
   "outputs": [
    {
     "name": "stdout",
     "output_type": "stream",
     "text": [
      "저는 고약한 냄새를 없애기 위해 뭔가 추가된 함수입니다.\n"
     ]
    }
   ],
   "source": [
    "def a_new_decorator(a_func):\n",
    "    def wrap_the_function():\n",
    "        print(\"a_function_requiring_decoration()가 실행되기 전에 좀 지루한 일을 먼저 해야 해요. \")\n",
    "        \n",
    "        a_func()\n",
    "\n",
    "        print(\"a_function_requiring_decoration()가 실행 된 후 좀 지루한 일을 해야 해요.\")\n",
    "    return wrap_the_function()\n",
    "    \n",
    "def a_function_requiring_decoration():\n",
    "    print(\"저는 고약한 냄새를 없애기 위해 뭔가 추가된 함수입니다.\")\n",
    "\n",
    "a_function_requiring_decoration()"
   ]
  },
  {
   "cell_type": "code",
   "execution_count": 46,
   "metadata": {},
   "outputs": [
    {
     "name": "stdout",
     "output_type": "stream",
     "text": [
      "a_function_requiring_decoration()가 실행되기 전에 좀 지루한 일을 먼저 해야 해요. \n",
      "저는 고약한 냄새를 없애기 위해 뭔가 추가된 함수입니다.\n",
      "a_function_requiring_decoration()가 실행 된 후 좀 지루한 일을 해야 해요.\n"
     ]
    }
   ],
   "source": [
    "a_function_requiring_decorations = a_new_decorator(a_function_requiring_decoration)\n",
    "a_function_requiring_decorations"
   ]
  },
  {
   "cell_type": "code",
   "execution_count": 47,
   "metadata": {},
   "outputs": [
    {
     "name": "stdout",
     "output_type": "stream",
     "text": [
      "a_function_requiring_decoration()가 실행되기 전에 좀 지루한 일을 먼저 해야 해요. \n",
      "저는 고약한 냄새를 없애기 위해 뭔가 추가된 함수 입니다.\n",
      "a_function_requiring_decoration()가 실행 된 후 좀 지루한 일을 해야 해요.\n"
     ]
    }
   ],
   "source": [
    "@a_new_decorator\n",
    "def a_function_requiring_decoration():\n",
    "    '''hey! you! Please do decorate'''\n",
    "    print(\"저는 고약한 냄새를 없애기 위해 뭔가 추가된 함수 입니다.\")\n",
    "\n",
    "a_function_requiring_decoration"
   ]
  },
  {
   "cell_type": "code",
   "execution_count": 1,
   "metadata": {},
   "outputs": [
    {
     "name": "stdout",
     "output_type": "stream",
     "text": [
      "Hello Youngho. It is a nice day\n",
      "<p>Hello Youngho. It is a nice day</p>\n"
     ]
    }
   ],
   "source": [
    "def get_text(name):\n",
    "    return \"Hello {}. It is a nice day\".format(name)\n",
    "\n",
    "def p_decorate(func): #외부함수는 함수를 인자로 받음\n",
    "    def func_wrapper(name): #wrapper 함수는 함수를 더 꾸미는 함수\n",
    "        return \"<p>{}</p>\".format(func(name))\n",
    "    return func_wrapper\n",
    "\n",
    "my_get_text = p_decorate(get_text)\n",
    "print(get_text('Youngho'))\n",
    "print(my_get_text('Youngho'))"
   ]
  },
  {
   "cell_type": "code",
   "execution_count": 2,
   "metadata": {},
   "outputs": [
    {
     "name": "stdout",
     "output_type": "stream",
     "text": [
      "<p>Hello Youngho. It is a nice day</p>\n"
     ]
    }
   ],
   "source": [
    "def p_decorate(func): #외부함수는 함수를 인자로 받음\n",
    "    def func_wrapper(name): #wrapper 함수는 함수를 더 꾸미는 함수\n",
    "        return \"<p>{}</p>\".format(func(name))\n",
    "    return func_wrapper\n",
    "\n",
    "@p_decorate\n",
    "def get_text(name):\n",
    "    return \"Hello {}. It is a nice day\".format(name)\n",
    "\n",
    "print(get_text(\"Youngho\"))"
   ]
  },
  {
   "cell_type": "code",
   "execution_count": 6,
   "metadata": {},
   "outputs": [
    {
     "name": "stdout",
     "output_type": "stream",
     "text": [
      "<div><p><strong>Hello Youngho. it is a nice day</strong></p></div>\n"
     ]
    }
   ],
   "source": [
    "def get_text(name):\n",
    "    return \"Hello {}. it is a nice day\".format(name)\n",
    "\n",
    "def p_decorate(func):\n",
    "    def func_wrapper(name):\n",
    "        return \"<p>{}</p>\".format(func(name))\n",
    "    return func_wrapper\n",
    "\n",
    "def strong_decorate(func):\n",
    "    def func_wrapper(name):\n",
    "        return \"<strong>{}</strong>\".format(func(name))\n",
    "    return func_wrapper\n",
    "\n",
    "def div_decorate(func):\n",
    "    def func_wrapper(name):\n",
    "        return \"<div>{}</div>\".format(func(name))\n",
    "    return func_wrapper\n",
    "\n",
    "get_text = div_decorate(p_decorate(strong_decorate(get_text)))\n",
    "\n",
    "print(get_text('Youngho'))"
   ]
  },
  {
   "cell_type": "code",
   "execution_count": 7,
   "metadata": {},
   "outputs": [
    {
     "name": "stdout",
     "output_type": "stream",
     "text": [
      "<div><p><strong>Hello Youngho. it is a nice day</strong></p></div>\n"
     ]
    }
   ],
   "source": [
    "def p_decorate(func):\n",
    "    def func_wrapper(name):\n",
    "        return \"<p>{}</p>\".format(func(name))\n",
    "    return func_wrapper\n",
    "\n",
    "def strong_decorate(func):\n",
    "    def func_wrapper(name):\n",
    "        return \"<strong>{}</strong>\".format(func(name))\n",
    "    return func_wrapper\n",
    "\n",
    "def div_decorate(func):\n",
    "    def func_wrapper(name):\n",
    "        return \"<div>{}</div>\".format(func(name))\n",
    "    return func_wrapper\n",
    "\n",
    "@div_decorate\n",
    "@p_decorate\n",
    "@strong_decorate\n",
    "def get_text(name):\n",
    "    return \"Hello {}. it is a nice day\".format(name)\n",
    "\n",
    "print(get_text('Youngho'))"
   ]
  },
  {
   "cell_type": "markdown",
   "metadata": {},
   "source": [
    "* method decorator"
   ]
  },
  {
   "cell_type": "code",
   "execution_count": 9,
   "metadata": {},
   "outputs": [
    {
     "name": "stdout",
     "output_type": "stream",
     "text": [
      "<p>Youngho Jeon</p>\n"
     ]
    }
   ],
   "source": [
    "def p_decorate(func):\n",
    "    def func_wrapper(self):\n",
    "        return \"<p>{}</p>\".format(func(self))\n",
    "    return func_wrapper\n",
    "        \n",
    "class Person(object):\n",
    "    def __init__(self):\n",
    "        self.name = \"Youngho\"\n",
    "        self.family = \"Jeon\"\n",
    "        \n",
    "    @p_decorate\n",
    "    def get_fullname(self):\n",
    "        return self.name + \" \" + self.family\n",
    "    \n",
    "my_info = Person()\n",
    "print(my_info.get_fullname())"
   ]
  },
  {
   "cell_type": "code",
   "execution_count": 12,
   "metadata": {},
   "outputs": [
    {
     "name": "stdout",
     "output_type": "stream",
     "text": [
      "<p>Youngho Jeon</p>\n"
     ]
    }
   ],
   "source": [
    "def p_decorate(func):\n",
    "    def func_wrapper(*args, **kwargs):\n",
    "        return \"<p>{}</p>\".format(func(*args, **kwargs))\n",
    "    return func_wrapper\n",
    "\n",
    "class Person(object):\n",
    "    def __init__(self):\n",
    "        self.name = \"Youngho\"\n",
    "        self.family = \"Jeon\"\n",
    "    \n",
    "    @p_decorate\n",
    "    def get_fullname(self):\n",
    "        return self.name + \" \" + self.family\n",
    "\n",
    "my_info = Person()\n",
    "print(my_info.get_fullname())"
   ]
  },
  {
   "cell_type": "markdown",
   "metadata": {},
   "source": [
    "* decorator에 파라미터 전달"
   ]
  },
  {
   "cell_type": "code",
   "execution_count": 13,
   "metadata": {},
   "outputs": [
    {
     "name": "stdout",
     "output_type": "stream",
     "text": [
      "<p>Hello Youngho</p>\n"
     ]
    }
   ],
   "source": [
    "def tags(tag_name):\n",
    "    def tags_decorator(func):\n",
    "        def func_wrapper(name):\n",
    "            return \"<{0}>{1}</{0}>\".format(tag_name, func(name))\n",
    "        return func_wrapper\n",
    "    return tags_decorator\n",
    "\n",
    "@tags(\"p\")\n",
    "def get_text(name):\n",
    "    return \"Hello \" + name\n",
    "print(get_text('Youngho'))\n",
    "    "
   ]
  },
  {
   "cell_type": "markdown",
   "metadata": {},
   "source": [
    "* @staticmethod \n",
    "    * 클래스 함수로 모두 접근 가능하게 해놓음. self를 줄 필요 없음. 클래스 이름으로 접근 가능.\n",
    "    \n",
    "* @classmethod\n",
    "    * 클래스 메소드는 'cls'인 클래스를 인자로 받고 모든 인스턴스가 공유하는 클래스 변수와 같은 데이터를 생성, 변경 또는 참조하기 위한 메소드"
   ]
  },
  {
   "cell_type": "code",
   "execution_count": 23,
   "metadata": {},
   "outputs": [
    {
     "name": "stdout",
     "output_type": "stream",
     "text": [
      "10\n",
      "51\n",
      "10000\n",
      "31\n",
      "1000\n",
      "2.5\n",
      "나누기 결과 : 2.5\n",
      "Error\n",
      "나누기 결과 : 2.5\n",
      "3.3333333333333335\n",
      "나누기 결과 : 3.3333333333333335\n"
     ]
    }
   ],
   "source": [
    "class Math(object):\n",
    "    def __init__(self, cnt):\n",
    "        self.cnt = cnt\n",
    "    \n",
    "    def get_cnt(self):\n",
    "        return self.cnt\n",
    "    \n",
    "    @staticmethod \n",
    "    def add(a, b):\n",
    "        return a + b\n",
    "    \n",
    "    @staticmethod\n",
    "    def exp(a, b):\n",
    "        return a ** b\n",
    "    \n",
    "    @classmethod\n",
    "    def divide(cls, a, b):\n",
    "        try:\n",
    "            cnt = a / b\n",
    "            cls.result_cnt = cnt\n",
    "            return cnt\n",
    "        except ZeroDivisionError as e:\n",
    "            return 'Error'\n",
    "        \n",
    "    def __str__(self):\n",
    "        return \"나누기 결과 : {}\".format(self.result_cnt)\n",
    "        \n",
    "    \n",
    "math = Math(10)\n",
    "print(math.get_cnt())\n",
    "print(math.add(10, 41)) # math 인스턴스를 통하여 스태틱 메소드 호출\n",
    "print(math.exp(10, 4)) # math 인스턴스를 통하여 스태틱 메소드 호출\n",
    "print(Math.add(10, 21)) # 클래스를 통하여 스태틱 메소드 호출\n",
    "print(Math.exp(10, 3))  # 클래스를 통하여 스태틱 메소드 호출\n",
    "print(math.divide(5, 2))\n",
    "print(math.__str__())\n",
    "print(math.divide(5, 0))\n",
    "print(math.__str__())\n",
    "print(math.divide(10, 3))\n",
    "print(math.__str__())"
   ]
  },
  {
   "cell_type": "code",
   "execution_count": null,
   "metadata": {
    "collapsed": true
   },
   "outputs": [],
   "source": []
  }
 ],
 "metadata": {
  "kernelspec": {
   "display_name": "Python 3",
   "language": "python",
   "name": "python3"
  },
  "language_info": {
   "codemirror_mode": {
    "name": "ipython",
    "version": 3
   },
   "file_extension": ".py",
   "mimetype": "text/x-python",
   "name": "python",
   "nbconvert_exporter": "python",
   "pygments_lexer": "ipython3",
   "version": "3.5.3"
  }
 },
 "nbformat": 4,
 "nbformat_minor": 2
}
