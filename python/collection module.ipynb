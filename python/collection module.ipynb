{
 "cells": [
  {
   "cell_type": "markdown",
   "metadata": {},
   "source": [
    "# Reference\n",
    "* https://ddanggle.gitbooks.io/interpy-kr/content/ch12-Collections.html\n",
    "* https://docs.python.org/3/library/collections.html#module-collections"
   ]
  },
  {
   "cell_type": "code",
   "execution_count": 28,
   "metadata": {
    "collapsed": true
   },
   "outputs": [],
   "source": [
    "from collections import defaultdict\n",
    "from collections import OrderedDict\n",
    "from collections import Counter"
   ]
  },
  {
   "cell_type": "markdown",
   "metadata": {},
   "source": [
    "### defaultdict\n",
    "* dict와는 달리 defaultdict를 사용하면 key값의 존재 유무를 확인할 필요가 없음.\n",
    "* dict.set_default를 사용하는 것보다 빠름"
   ]
  },
  {
   "cell_type": "code",
   "execution_count": 38,
   "metadata": {},
   "outputs": [
    {
     "data": {
      "text/plain": [
       "defaultdict(<class 'list'>, {'별이': ['초록'], '샛별': ['실버'], '태희': ['노랑', '빨강'], '지훈': ['파랑', '검정']})"
      ]
     },
     "execution_count": 38,
     "metadata": {},
     "output_type": "execute_result"
    }
   ],
   "source": [
    "colours = (\n",
    "  ('태희', '노랑'),\n",
    "  ('지훈', '파랑'),\n",
    "  ('별이', '초록'),\n",
    "  ('지훈', '검정'),\n",
    "  ('태희', '빨강'),\n",
    "  ('샛별', '실버'),\n",
    ")\n",
    "\n",
    "favorite_colors = defaultdict(list)\n",
    "for name, color in colours:\n",
    "    favorite_colors[name].append(color)\n",
    "    \n",
    "favorite_colors"
   ]
  },
  {
   "cell_type": "code",
   "execution_count": 43,
   "metadata": {},
   "outputs": [
    {
     "ename": "KeyError",
     "evalue": "'colors'",
     "output_type": "error",
     "traceback": [
      "\u001b[1;31m---------------------------------------------------------------------------\u001b[0m",
      "\u001b[1;31mKeyError\u001b[0m                                  Traceback (most recent call last)",
      "\u001b[1;32m<ipython-input-43-097674701476>\u001b[0m in \u001b[0;36m<module>\u001b[1;34m()\u001b[0m\n\u001b[0;32m      1\u001b[0m \u001b[0msome_dict\u001b[0m \u001b[1;33m=\u001b[0m \u001b[1;33m{\u001b[0m\u001b[1;33m}\u001b[0m\u001b[1;33m\u001b[0m\u001b[0m\n\u001b[1;32m----> 2\u001b[1;33m \u001b[0msome_dict\u001b[0m\u001b[1;33m[\u001b[0m\u001b[1;34m'colors'\u001b[0m\u001b[1;33m]\u001b[0m\u001b[1;33m[\u001b[0m\u001b[1;34m'favorite'\u001b[0m\u001b[1;33m]\u001b[0m \u001b[1;33m=\u001b[0m \u001b[1;34m\"노랑\"\u001b[0m\u001b[1;33m\u001b[0m\u001b[0m\n\u001b[0m",
      "\u001b[1;31mKeyError\u001b[0m: 'colors'"
     ]
    }
   ],
   "source": [
    "some_dict = {}\n",
    "some_dict['colors']['favorite'] = \"노랑\""
   ]
  },
  {
   "cell_type": "code",
   "execution_count": 44,
   "metadata": {
    "collapsed": true
   },
   "outputs": [],
   "source": [
    "tree = lambda : defaultdict(tree)\n",
    "some_dict = tree()\n",
    "some_dict['colors']['favorite'] = \"노랑\""
   ]
  },
  {
   "cell_type": "code",
   "execution_count": 45,
   "metadata": {},
   "outputs": [
    {
     "data": {
      "text/plain": [
       "defaultdict(<function <lambda> at 0x0000000006B622F0>, {'colors': defaultdict(<function <lambda> at 0x0000000006B622F0>, {'favorite': '노랑'})})"
      ]
     },
     "execution_count": 45,
     "metadata": {},
     "output_type": "execute_result"
    }
   ],
   "source": [
    "some_dict"
   ]
  },
  {
   "cell_type": "code",
   "execution_count": 46,
   "metadata": {},
   "outputs": [
    {
     "name": "stdout",
     "output_type": "stream",
     "text": [
      "{\"colors\": {\"favorite\": \"\\ub178\\ub791\"}}\n"
     ]
    }
   ],
   "source": [
    "import json\n",
    "print(json.dumps(some_dict))"
   ]
  },
  {
   "cell_type": "code",
   "execution_count": 61,
   "metadata": {},
   "outputs": [
    {
     "data": {
      "text/plain": [
       "[('blue', [2, 4]), ('red', [1]), ('yellow', [1, 3])]"
      ]
     },
     "execution_count": 61,
     "metadata": {},
     "output_type": "execute_result"
    }
   ],
   "source": [
    "s = [('yellow', 1), ('blue', 2), ('yellow', 3), ('blue', 4), ('red', 1)]\n",
    "d = {}\n",
    "for k,v in s:\n",
    "    d.setdefault(k, []).append(v)\n",
    "\n",
    "sorted(d.items())"
   ]
  },
  {
   "cell_type": "code",
   "execution_count": 62,
   "metadata": {},
   "outputs": [
    {
     "data": {
      "text/plain": [
       "[('blue', [2, 4]), ('red', [1]), ('yellow', [1, 3])]"
      ]
     },
     "execution_count": 62,
     "metadata": {},
     "output_type": "execute_result"
    }
   ],
   "source": [
    "s = [('yellow', 1), ('blue', 2), ('yellow', 3), ('blue', 4), ('red', 1)]\n",
    "d = defaultdict(list)\n",
    "for k,v in s:\n",
    "    d[k].append(v)\n",
    "sorted(d.items())"
   ]
  },
  {
   "cell_type": "markdown",
   "metadata": {},
   "source": [
    "* int() 함수를 defaultdict에 넣어주면 default 값이 0으로 정해짐"
   ]
  },
  {
   "cell_type": "code",
   "execution_count": 52,
   "metadata": {},
   "outputs": [
    {
     "data": {
      "text/plain": [
       "[('i', 4), ('m', 1), ('p', 2), ('s', 4)]"
      ]
     },
     "execution_count": 52,
     "metadata": {},
     "output_type": "execute_result"
    }
   ],
   "source": [
    "s = 'mississippi'\n",
    "d = defaultdict(int)\n",
    "for k in s:\n",
    "    d[k] += 1\n",
    "\n",
    "sorted(d.items())"
   ]
  },
  {
   "cell_type": "markdown",
   "metadata": {},
   "source": [
    "A faster and more flexible way to create constant functions \n",
    "is to use a lambda function which can supply any constant value (not just zero)\n",
    "\n",
    "(0이 아닌) 어떠한 상수 값을 지원할 수 있는 lambda function을 사용하는 것은 상수 함수를 만드는 더 빠르고 더 융통적인 방법이다."
   ]
  },
  {
   "cell_type": "code",
   "execution_count": 53,
   "metadata": {},
   "outputs": [
    {
     "data": {
      "text/plain": [
       "'youngho ran to <missing>'"
      ]
     },
     "execution_count": 53,
     "metadata": {},
     "output_type": "execute_result"
    }
   ],
   "source": [
    "def constant_factory(value):\n",
    "    return lambda : value\n",
    "\n",
    "d = defaultdict(constant_factory('<missing>'))\n",
    "d.update(name='youngho', action='ran')\n",
    "'%(name)s %(action)s to %(object)s' % d"
   ]
  },
  {
   "cell_type": "code",
   "execution_count": 58,
   "metadata": {},
   "outputs": [
    {
     "data": {
      "text/plain": [
       "[('blue', {2, 4}), ('red', {1, 3})]"
      ]
     },
     "execution_count": 58,
     "metadata": {},
     "output_type": "execute_result"
    }
   ],
   "source": [
    "s = [('red', 1), ('blue', 2), ('red', 3), ('blue', 4), ('red', 1), ('blue', 4)]\n",
    "d = defaultdict(set)\n",
    "for k, v in s:\n",
    "    d[k].add(v)\n",
    "    \n",
    "sorted(d.items())"
   ]
  },
  {
   "cell_type": "markdown",
   "metadata": {},
   "source": [
    "### OrderedDict"
   ]
  },
  {
   "cell_type": "markdown",
   "metadata": {},
   "source": [
    "* 처음 삽입 될 때의 순서대로 항목을 정렬 된 상태로 유지. 기존 키의 값을 덮어 쓰더라고 해당 키의 위치는 변경되지 않음.\n",
    "\n",
    "* 그러나 항목을 삭제했다가 다시 삽입하면 키가 사전 끝으로 이동함."
   ]
  },
  {
   "cell_type": "markdown",
   "metadata": {},
   "source": [
    "* 기존 dict 에서는 예측할 수 없는 순서로 항목이 검색됨"
   ]
  },
  {
   "cell_type": "code",
   "execution_count": 47,
   "metadata": {},
   "outputs": [
    {
     "name": "stdout",
     "output_type": "stream",
     "text": [
      "파랑 160\n",
      "빨강 198\n",
      "녹색 170\n"
     ]
    }
   ],
   "source": [
    "colors = {'빨강' : 198, '녹색' : 170, '파랑' : 160}\n",
    "for key, value in colors.items():\n",
    "    print(key, value)"
   ]
  },
  {
   "cell_type": "markdown",
   "metadata": {},
   "source": [
    "* Ordereddict를 사용하면 입력 순서가 유지 됨"
   ]
  },
  {
   "cell_type": "code",
   "execution_count": 51,
   "metadata": {},
   "outputs": [
    {
     "name": "stdout",
     "output_type": "stream",
     "text": [
      "빨강 198\n",
      "녹색 170\n",
      "파랑 160\n"
     ]
    }
   ],
   "source": [
    "colors = OrderedDict([('빨강', 198), ('녹색', 170), ('파랑', 160)])\n",
    "for key, value in colors.items():\n",
    "    print(key, value)"
   ]
  },
  {
   "cell_type": "markdown",
   "metadata": {},
   "source": [
    "* 기존 항목을 지웠다가 다시 삽입하면 키가 사전 끝으로 이동"
   ]
  },
  {
   "cell_type": "code",
   "execution_count": 60,
   "metadata": {},
   "outputs": [
    {
     "name": "stdout",
     "output_type": "stream",
     "text": [
      "녹색 170\n",
      "파랑 160\n",
      "빨강 198\n"
     ]
    }
   ],
   "source": [
    "del colors['빨강']\n",
    "colors['빨강'] = 198\n",
    "for key, value in colors.items():\n",
    "    print(key, value)"
   ]
  },
  {
   "cell_type": "code",
   "execution_count": 77,
   "metadata": {},
   "outputs": [
    {
     "name": "stdout",
     "output_type": "stream",
     "text": [
      "OrderedDict([('a', None), ('b', None), ('c', None), ('d', None), ('e', None)])\n",
      "acdeb\n"
     ]
    }
   ],
   "source": [
    "d = OrderedDict.fromkeys('abcde')\n",
    "print(d)\n",
    "d.move_to_end('b')\n",
    "print(''.join(d.keys()))"
   ]
  },
  {
   "cell_type": "code",
   "execution_count": 78,
   "metadata": {},
   "outputs": [
    {
     "name": "stdout",
     "output_type": "stream",
     "text": [
      "bacde\n"
     ]
    }
   ],
   "source": [
    "d.move_to_end('b', last=False) # b를 첫번째로 옮기기\n",
    "print(''.join(d.keys()))"
   ]
  },
  {
   "cell_type": "markdown",
   "metadata": {},
   "source": [
    "### Counter"
   ]
  },
  {
   "cell_type": "code",
   "execution_count": 32,
   "metadata": {},
   "outputs": [
    {
     "name": "stdout",
     "output_type": "stream",
     "text": [
      "Counter({'태희': 2, '지훈': 2, '별이': 1, '샛별': 1})\n",
      "Counter({'초록': 1, '검정': 1, '실버': 1, '빨강': 1, '파랑': 1, '노랑': 1})\n"
     ]
    }
   ],
   "source": [
    "colours = (\n",
    "  ('태희', '노랑'),\n",
    "  ('지훈', '파랑'),\n",
    "  ('별이', '초록'),\n",
    "  ('지훈', '검정'),\n",
    "  ('태희', '빨강'),\n",
    "  ('샛별', '실버'),\n",
    ")\n",
    "\n",
    "favs = Counter(name for name, color in colours)\n",
    "colors = Counter(color for name, color  in colours)\n",
    "print(favs)\n",
    "print(colors)"
   ]
  },
  {
   "cell_type": "code",
   "execution_count": 80,
   "metadata": {},
   "outputs": [
    {
     "data": {
      "text/plain": [
       "['별이', '샛별', '지훈', '지훈', '태희', '태희']"
      ]
     },
     "execution_count": 80,
     "metadata": {},
     "output_type": "execute_result"
    }
   ],
   "source": [
    "sorted(favs.elements())"
   ]
  },
  {
   "cell_type": "code",
   "execution_count": 81,
   "metadata": {},
   "outputs": [
    {
     "data": {
      "text/plain": [
       "[('태희', 2), ('지훈', 2), ('별이', 1)]"
      ]
     },
     "execution_count": 81,
     "metadata": {},
     "output_type": "execute_result"
    }
   ],
   "source": [
    "favs.most_common(3)"
   ]
  },
  {
   "cell_type": "markdown",
   "metadata": {},
   "source": [
    "### deque\n",
    "\n",
    "* deque는 추가나 삭제가 양 쪽에서 가능한 double ended queue를 제공한다."
   ]
  },
  {
   "cell_type": "code",
   "execution_count": 82,
   "metadata": {
    "collapsed": true
   },
   "outputs": [],
   "source": [
    "from collections import deque"
   ]
  },
  {
   "cell_type": "code",
   "execution_count": 83,
   "metadata": {},
   "outputs": [
    {
     "name": "stdout",
     "output_type": "stream",
     "text": [
      "3\n",
      "1\n",
      "3\n"
     ]
    }
   ],
   "source": [
    "d = deque()\n",
    "d.append('1')\n",
    "d.append('2')\n",
    "d.append('3')\n",
    "print(len(d))\n",
    "print(d[0])\n",
    "print(d[-1])"
   ]
  },
  {
   "cell_type": "markdown",
   "metadata": {},
   "source": [
    "* deque가 가질 수 있는 아이템의 수에도 제한을 둘 수 있다. 이 방법을 사용하면 아이템 개수가 최대에 도달했을 때 반대쪽 끝에서 아이템들이 튀어 나옴."
   ]
  },
  {
   "cell_type": "code",
   "execution_count": 89,
   "metadata": {},
   "outputs": [
    {
     "name": "stdout",
     "output_type": "stream",
     "text": [
      "deque([1, 2, 3, 4, 5], maxlen=5)\n",
      "deque([2, 3, 4, 5, 6], maxlen=5)\n",
      "deque([3, 4, 5, 6, 7], maxlen=5)\n",
      "deque([4, 5, 1, 3, 4], maxlen=5)\n"
     ]
    }
   ],
   "source": [
    "d = deque(maxlen=5)\n",
    "d.extend([1,2,3,4,5])\n",
    "print(d)\n",
    "d.append(6)\n",
    "print(d)\n",
    "d.append(7)\n",
    "print(d)\n",
    "d.extendleft([1,5,4])\n",
    "print(d)"
   ]
  },
  {
   "cell_type": "markdown",
   "metadata": {},
   "source": [
    "* pop() : 마지막 element가 제거\n",
    "* popleft() : 맨 왼쪽에 있던 element가 제거 "
   ]
  },
  {
   "cell_type": "code",
   "execution_count": 90,
   "metadata": {},
   "outputs": [
    {
     "name": "stdout",
     "output_type": "stream",
     "text": [
      "deque([4, 5, 1, 3], maxlen=5)\n",
      "deque([5, 1, 3], maxlen=5)\n"
     ]
    }
   ],
   "source": [
    "d.pop()\n",
    "print(d)\n",
    "d.popleft()\n",
    "print(d)"
   ]
  },
  {
   "cell_type": "markdown",
   "metadata": {},
   "source": [
    "### namedtuple\n",
    "\n",
    "* tuple : 튜플은 기본적으로 값의 순서를 쉼표로 구분하여 저장할 수 있는 불변의 리스트이다. 리스트와 거의 비슷하지만 리스트와 달리, 튜플에 있는 항목을 재할당 할 수 없다.\n",
    "\n",
    "* namedtuple : 간단한 작업을 위해 튜플을 편리한 컨테이너로 변환함. namedtuple를 사용하면 튜플 안의 값들에 접근하기 위해 정수 인덱스 값들을 사용할 필요가 없다."
   ]
  },
  {
   "cell_type": "markdown",
   "metadata": {},
   "source": [
    "* namedtuple은 인자가 두개가 필요\n",
    "   * 튜플의 이름과 튜플의 필드이름\n",
    "       * 밑의 예시에서 보면 튜플의 이름 : Animal\n",
    "       * 튜플의 필드 이름은 'name', 'age', 'cat'\n",
    "* 네임튜플은 튜플들을 자가문서화(self-document)한다.\n",
    "\n",
    "\n",
    "* 튜플의 멤버에 엑세스하기 위해 정수 인덱스를 사용할 필요가 없으므로 코드 유지 관리하기가 더 쉬움. 게다가 \"*네임튜플\" 인스턴스는 인스턴스당 사전들을 가지지 않으므로*, 일반 튜플보다 더 가볍고 메모리 사용량을 줄일 수 있음. 그래서 사전형보다 더 빠름. 그러나 튜플이기 때문에 네임튜플의 속성들은 불변!"
   ]
  },
  {
   "cell_type": "code",
   "execution_count": 93,
   "metadata": {},
   "outputs": [
    {
     "name": "stdout",
     "output_type": "stream",
     "text": [
      "Animal(name='perry', age=31, type='cat')\n",
      "perry\n"
     ]
    }
   ],
   "source": [
    "from collections import namedtuple\n",
    "\n",
    "Animal = namedtuple('Animal', 'name age type')\n",
    "perry = Animal(name=\"perry\", age=31, type='cat')\n",
    "print(perry)\n",
    "print(perry.name)"
   ]
  },
  {
   "cell_type": "code",
   "execution_count": 99,
   "metadata": {},
   "outputs": [
    {
     "ename": "AttributeError",
     "evalue": "can't set attribute",
     "output_type": "error",
     "traceback": [
      "\u001b[1;31m---------------------------------------------------------------------------\u001b[0m",
      "\u001b[1;31mAttributeError\u001b[0m                            Traceback (most recent call last)",
      "\u001b[1;32m<ipython-input-99-7203db6a97e6>\u001b[0m in \u001b[0;36m<module>\u001b[1;34m()\u001b[0m\n\u001b[1;32m----> 1\u001b[1;33m \u001b[0mperry\u001b[0m\u001b[1;33m.\u001b[0m\u001b[0mage\u001b[0m \u001b[1;33m=\u001b[0m \u001b[1;36m42\u001b[0m\u001b[1;33m\u001b[0m\u001b[0m\n\u001b[0m",
      "\u001b[1;31mAttributeError\u001b[0m: can't set attribute"
     ]
    }
   ],
   "source": [
    "perry.age = 42"
   ]
  },
  {
   "cell_type": "code",
   "execution_count": 100,
   "metadata": {},
   "outputs": [
    {
     "name": "stdout",
     "output_type": "stream",
     "text": [
      "perry\n"
     ]
    }
   ],
   "source": [
    "print(perry[0])"
   ]
  },
  {
   "cell_type": "markdown",
   "metadata": {},
   "source": [
    "* 네임튜플을 사전형으로 변환할 수 있음"
   ]
  },
  {
   "cell_type": "code",
   "execution_count": 102,
   "metadata": {},
   "outputs": [
    {
     "name": "stdout",
     "output_type": "stream",
     "text": [
      "OrderedDict([('name', 'perry'), ('age', 31), ('type', 'cat')])\n"
     ]
    }
   ],
   "source": [
    "print(perry._asdict())"
   ]
  },
  {
   "cell_type": "markdown",
   "metadata": {},
   "source": [
    "### enum.Enum (python 3.4+)\n"
   ]
  },
  {
   "cell_type": "code",
   "execution_count": 103,
   "metadata": {
    "collapsed": true
   },
   "outputs": [],
   "source": [
    "from enum import Enum"
   ]
  },
  {
   "cell_type": "code",
   "execution_count": 110,
   "metadata": {},
   "outputs": [
    {
     "name": "stdout",
     "output_type": "stream",
     "text": [
      "True\n",
      "2\n",
      "Charlie\n",
      "True\n"
     ]
    }
   ],
   "source": [
    "class Species(Enum):\n",
    "    cat = 1\n",
    "    dog = 2\n",
    "    horse = 3\n",
    "    aardvark = 4\n",
    "    butterfly = 5\n",
    "    owl = 6\n",
    "    platypus = 7\n",
    "    dragon = 8\n",
    "    unicorn = 9\n",
    "    # The list goes on and on...\n",
    "\n",
    "    # But we don't really care about age, so we can use an alias.\n",
    "    kitten = 1\n",
    "    puppy = 2\n",
    "\n",
    "Animal = namedtuple('Animal', 'name age type')\n",
    "perry = Animal(name=\"Perry\", age=31, type=Species.cat)\n",
    "dragon = Animal(name=\"Drogon\", age=4, type=Species.dragon)\n",
    "tom = Animal(name=\"Tom\", age=75, type=Species.cat)\n",
    "charlie = Animal(name=\"Charlie\", age=2, type=Species.kitten)\n",
    "\n",
    "print(charlie.type == tom.type)\n",
    "print(charlie.age)\n",
    "print(charlie.name)\n",
    "charlie.type\n",
    "print(Species.dog == Species.puppy)"
   ]
  },
  {
   "cell_type": "code",
   "execution_count": 106,
   "metadata": {},
   "outputs": [
    {
     "name": "stdout",
     "output_type": "stream",
     "text": [
      "Species.cat\n",
      "Species.cat\n",
      "Species.cat\n"
     ]
    }
   ],
   "source": [
    "print(Species(1))\n",
    "print(Species['cat'])\n",
    "print(Species.cat)"
   ]
  }
 ],
 "metadata": {
  "kernelspec": {
   "display_name": "Python 3",
   "language": "python",
   "name": "python3"
  },
  "language_info": {
   "codemirror_mode": {
    "name": "ipython",
    "version": 3
   },
   "file_extension": ".py",
   "mimetype": "text/x-python",
   "name": "python",
   "nbconvert_exporter": "python",
   "pygments_lexer": "ipython3",
   "version": "3.5.3"
  }
 },
 "nbformat": 4,
 "nbformat_minor": 2
}
