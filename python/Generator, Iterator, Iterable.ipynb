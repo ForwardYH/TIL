{
 "cells": [
  {
   "cell_type": "markdown",
   "metadata": {},
   "source": [
    "# Reference \n",
    "* https://ddanggle.gitbooks.io/interpy-kr/content/ch3-generators.html\n",
    "* http://schoolofweb.net/blog/posts/%ED%8C%8C%EC%9D%B4%EC%8D%AC-%EC%A0%9C%EB%84%88%EB%A0%88%EC%9D%B4%ED%84%B0-generator/\n",
    "\n"
   ]
  },
  {
   "cell_type": "markdown",
   "metadata": {},
   "source": [
    "# Iterable\n",
    "* iterable은 iterator를 제공할 수 있는 모든 객체"
   ]
  },
  {
   "cell_type": "markdown",
   "metadata": {},
   "source": [
    "# Iterator\n",
    "* 이터레이터는 ```next(python2)``` 혹은 ```__next__```메소드가 정의 된 모든 객체를 말하는 것"
   ]
  },
  {
   "cell_type": "markdown",
   "metadata": {},
   "source": [
    "# Generators\n",
    "* 제너레이터는 이터레이터지만 단 한번만 반복함.\n",
    "* 메모리에 모든 값을 저장하지 않기 때문에 값을 사용할 때 즉시 생성함.\n",
    "* 'for' loop를 사용하거나 반복하는 함수나 구조에 생성된 값들을 전달하여 반복을 통해 사용\n",
    "* 대부분의 제너레이터들은 함수로 구현 됨.\n",
    "* 그러나, 값을 **return(반환)** 하지 않고, **yield(산출)**됨\n",
    "* 제너레이터는 모든 결과물들을 메모리에 저장하지 않으면서 동시에, 많은 양의 결과 셋을 계산해야 할 때 최고(특히 루프 그 자체를 포함한 계산을 할 때)"
   ]
  },
  {
   "cell_type": "code",
   "execution_count": 1,
   "metadata": {},
   "outputs": [
    {
     "name": "stdout",
     "output_type": "stream",
     "text": [
      "0\n",
      "1\n",
      "2\n",
      "3\n",
      "4\n",
      "5\n",
      "6\n",
      "7\n",
      "8\n",
      "9\n"
     ]
    }
   ],
   "source": [
    "def generator_function():\n",
    "    for i in range(10):\n",
    "        yield(i)\n",
    "\n",
    "for item in generator_function():\n",
    "    print(item)"
   ]
  },
  {
   "cell_type": "code",
   "execution_count": 2,
   "metadata": {
    "collapsed": true
   },
   "outputs": [],
   "source": [
    "def fibonacci(n):\n",
    "    a = b = 1\n",
    "    for i in range(n):\n",
    "        yield a\n",
    "        a, b = b, a+b"
   ]
  },
  {
   "cell_type": "code",
   "execution_count": 3,
   "metadata": {},
   "outputs": [
    {
     "name": "stdout",
     "output_type": "stream",
     "text": [
      "1\n",
      "1\n",
      "2\n",
      "3\n",
      "5\n",
      "8\n",
      "13\n",
      "21\n",
      "34\n",
      "55\n",
      "Wall time: 0 ns\n"
     ]
    }
   ],
   "source": [
    "%%time\n",
    "for x in fibonacci(10):\n",
    "    print(x)"
   ]
  },
  {
   "cell_type": "markdown",
   "metadata": {},
   "source": [
    "### Generator Comprehension\n",
    "* listcomprehension에서는 [] 괄호를 쓰지만 \n",
    "* generator comprehension에서는 () 괄호를 씀"
   ]
  },
  {
   "cell_type": "code",
   "execution_count": 4,
   "metadata": {},
   "outputs": [
    {
     "name": "stdout",
     "output_type": "stream",
     "text": [
      "<generator object <genexpr> at 0x000001E551C55468>\n"
     ]
    }
   ],
   "source": [
    "my_nums = (x * x for x in range(1, 10, 2))\n",
    "print(my_nums)"
   ]
  },
  {
   "cell_type": "code",
   "execution_count": 5,
   "metadata": {},
   "outputs": [
    {
     "name": "stdout",
     "output_type": "stream",
     "text": [
      "1\n",
      "9\n",
      "25\n",
      "49\n",
      "81\n"
     ]
    }
   ],
   "source": [
    "print(next(my_nums))\n",
    "print(next(my_nums))\n",
    "print(next(my_nums))\n",
    "print(next(my_nums))\n",
    "print(next(my_nums))"
   ]
  },
  {
   "cell_type": "markdown",
   "metadata": {},
   "source": [
    "* 그 다음 next(my_nums)를 출력해보면?"
   ]
  },
  {
   "cell_type": "code",
   "execution_count": 6,
   "metadata": {},
   "outputs": [
    {
     "ename": "StopIteration",
     "evalue": "",
     "output_type": "error",
     "traceback": [
      "\u001b[1;31m---------------------------------------------------------------------------\u001b[0m",
      "\u001b[1;31mStopIteration\u001b[0m                             Traceback (most recent call last)",
      "\u001b[1;32m<ipython-input-6-b67ed76d57c3>\u001b[0m in \u001b[0;36m<module>\u001b[1;34m()\u001b[0m\n\u001b[1;32m----> 1\u001b[1;33m \u001b[0mprint\u001b[0m\u001b[1;33m(\u001b[0m\u001b[0mnext\u001b[0m\u001b[1;33m(\u001b[0m\u001b[0mmy_nums\u001b[0m\u001b[1;33m)\u001b[0m\u001b[1;33m)\u001b[0m\u001b[1;33m\u001b[0m\u001b[0m\n\u001b[0m",
      "\u001b[1;31mStopIteration\u001b[0m: "
     ]
    }
   ],
   "source": [
    "print(next(my_nums))"
   ]
  },
  {
   "cell_type": "markdown",
   "metadata": {},
   "source": [
    "* StopIteration 발생, 더 이상 전달할 값이 없다는 뜻\n",
    "* 제너레이터는 일반적으로 for 루프를 통해서 사용함.\n",
    "* for loop를 통해서 사용해보자"
   ]
  },
  {
   "cell_type": "code",
   "execution_count": 7,
   "metadata": {},
   "outputs": [
    {
     "name": "stdout",
     "output_type": "stream",
     "text": [
      "<generator object <genexpr> at 0x000001E551CC4B48>\n"
     ]
    }
   ],
   "source": [
    "my_nums = (x * x for x in range(1, 10, 2))\n",
    "print(my_nums)"
   ]
  },
  {
   "cell_type": "markdown",
   "metadata": {},
   "source": [
    "* for loop를 사용했을 때는 자신이 어디서 멈춰야 하는지 알고 있기 떄문에 StopIteration 발생하지 않음."
   ]
  },
  {
   "cell_type": "code",
   "execution_count": 8,
   "metadata": {},
   "outputs": [
    {
     "name": "stdout",
     "output_type": "stream",
     "text": [
      "1\n",
      "9\n",
      "25\n",
      "49\n",
      "81\n"
     ]
    }
   ],
   "source": [
    "for num in my_nums:\n",
    "    print(num)"
   ]
  },
  {
   "cell_type": "markdown",
   "metadata": {},
   "source": [
    "* for loop를 사용하지 않고 한번에 제너레이터 데이터를 보고 싶으면 어떻게 해야 할까?\n",
    "    * 그럴때는 제너레이터를 간단히 리스트로 변환하면 됨.\n",
    "    * 그러나 한 번 리스트로 변형하면 제너레이터가 가지고 있던 장점을 모두 잃게 됨."
   ]
  },
  {
   "cell_type": "code",
   "execution_count": 9,
   "metadata": {},
   "outputs": [
    {
     "name": "stdout",
     "output_type": "stream",
     "text": [
      "<generator object <genexpr> at 0x000001E551CC4E60>\n",
      "[1, 9, 25, 49, 81]\n"
     ]
    }
   ],
   "source": [
    "my_nums = (x * x for x in range(1, 10, 2))\n",
    "print(my_nums)\n",
    "print(list(my_nums))"
   ]
  },
  {
   "cell_type": "markdown",
   "metadata": {},
   "source": [
    "* 예제를 통해서 제너레이터의 퍼포먼스 확인"
   ]
  },
  {
   "cell_type": "code",
   "execution_count": 10,
   "metadata": {
    "collapsed": true
   },
   "outputs": [],
   "source": [
    "import os\n",
    "import psutil\n",
    "import random\n",
    "import time"
   ]
  },
  {
   "cell_type": "code",
   "execution_count": 11,
   "metadata": {},
   "outputs": [
    {
     "name": "stdout",
     "output_type": "stream",
     "text": [
      "시작 전 메모리 사용량: 54.69921875 MB\n",
      "시작 후 메모리 사용량: 387.45703125 MB\n",
      "총 소요된 시간: 2.492141 초\n"
     ]
    }
   ],
   "source": [
    "names = ['철수', '영희', '민호', '세훈', '민우']\n",
    "majors = ['컴공', '국문학', '수학', '영문학', '통계학']\n",
    "\n",
    "process = psutil.Process(os.getpid())\n",
    "mem_before = process.memory_info().rss / 1024 / 1024\n",
    "\n",
    "def people_list(num_people):\n",
    "    result = []\n",
    "    for i in range(num_people):\n",
    "        person = {\n",
    "            'id' : i,\n",
    "            'name' : random.choice(names),\n",
    "            'major' : random.choice(majors)\n",
    "        }\n",
    "        result.append(person)\n",
    "    return result\n",
    "\n",
    "def people_generator(num_people):\n",
    "    for i in range(num_people):\n",
    "        person = {\n",
    "            'id': i,\n",
    "            'name' : random.choice(names),\n",
    "            'major' : random.choice(majors)\n",
    "        }\n",
    "        yield person\n",
    "t1 = time.clock()\n",
    "people = people_list(1000000)\n",
    "t2 = time.clock()\n",
    "mem_after = process.memory_info().rss / 1024 / 1024\n",
    "total_time = t2 - t1\n",
    "\n",
    "print('시작 전 메모리 사용량: {} MB'.format(mem_before))\n",
    "print('시작 후 메모리 사용량: {} MB'.format(mem_after))\n",
    "print('총 소요된 시간: {:.6f} 초'.format(total_time))"
   ]
  },
  {
   "cell_type": "markdown",
   "metadata": {},
   "source": [
    "* people_list(1000000)를 호출하여 백만명의 학생의 정보가 들어가는 리스트를 만들었을 때 메모리 사용량이 54MB에서 387MB로 늘었으며 시간은 약 2.49초가 걸렸음"
   ]
  },
  {
   "cell_type": "code",
   "execution_count": 13,
   "metadata": {},
   "outputs": [
    {
     "name": "stdout",
     "output_type": "stream",
     "text": [
      "시작 전 메모리 사용량: 56.05859375 MB\n",
      "시작 후 메모리 사용량: 56.05859375 MB\n",
      "총 소요된 시간: 2.259472 초\n"
     ]
    }
   ],
   "source": [
    "names = ['철수', '영희', '민호', '세훈', '민우']\n",
    "majors = ['컴공', '국문학', '수학', '영문학', '통계학']\n",
    "\n",
    "process = psutil.Process(os.getpid())\n",
    "mem_before = process.memory_info().rss / 1024 / 1024\n",
    "\n",
    "def people_list(num_people):\n",
    "    result = []\n",
    "    for i in range(num_people):\n",
    "        person = {\n",
    "            'id' : i,\n",
    "            'name' : random.choice(names),\n",
    "            'major' : random.choice(majors)\n",
    "        }\n",
    "        result.append(person)\n",
    "    return result\n",
    "\n",
    "def people_generator(num_people):\n",
    "    for i in range(num_people):\n",
    "        person = {\n",
    "            'id': i,\n",
    "            'name' : random.choice(names),\n",
    "            'major' : random.choice(majors)\n",
    "        }\n",
    "        yield person\n",
    "t1 = time.clock()\n",
    "people = people_generator(1000000)\n",
    "for person in people:\n",
    "    pass\n",
    "t2 = time.clock()\n",
    "mem_after = process.memory_info().rss / 1024 / 1024\n",
    "total_time = t2 - t1\n",
    "\n",
    "print('시작 전 메모리 사용량: {} MB'.format(mem_before))\n",
    "print('시작 후 메모리 사용량: {} MB'.format(mem_after))\n",
    "print('총 소요된 시간: {:.6f} 초'.format(total_time))"
   ]
  },
  {
   "cell_type": "markdown",
   "metadata": {},
   "source": [
    "* people_generator(1000000)를 호출했을 때는  시작 전 후 메모리 사용량의 변화량이 없는 것을 확인할 수 있고 시간도 이전 실험보다 더 적게 나오는 것을 확인할 수 있다.\n",
    "\n",
    "* **generator(제너레이터)**의 퍼포먼스가 더 좋은 것을 확인할 수 있다."
   ]
  }
 ],
 "metadata": {
  "kernelspec": {
   "display_name": "Python 3",
   "language": "python",
   "name": "python3"
  },
  "language_info": {
   "codemirror_mode": {
    "name": "ipython",
    "version": 3
   },
   "file_extension": ".py",
   "mimetype": "text/x-python",
   "name": "python",
   "nbconvert_exporter": "python",
   "pygments_lexer": "ipython3",
   "version": "3.5.3"
  }
 },
 "nbformat": 4,
 "nbformat_minor": 2
}
