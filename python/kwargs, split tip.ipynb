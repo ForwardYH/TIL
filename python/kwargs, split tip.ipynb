{
 "cells": [
  {
   "cell_type": "code",
   "execution_count": 4,
   "metadata": {},
   "outputs": [
    {
     "name": "stdout",
     "output_type": "stream",
     "text": [
      "user : 3 test : two a : Not Value\n"
     ]
    }
   ],
   "source": [
    "def greet_me(**kwargs):\n",
    "    user = kwargs.pop(\"인자3\", 1) # 인자3(key)이 있을경우 3(value) 반환, 없을경우 1 반환\n",
    "    test = kwargs.pop(\"인자2\", 2) # 인자2(key)가 있을경우 'two'(value) 반환, 없을경우 2 반환\n",
    "    a = kwargs.pop(\"인자5\", 'Not Value') # 인자5(key)가 있을경우 value 반환, 없을경우 'Not Value' 반환\n",
    "    print(\"user :\", user, 'test :', test, 'a :', a)\n",
    "\n",
    "kwargs = {\"인자3\": 3, \"인자2\": \"two\", \"인자1\": 5}\n",
    "greet_me(**kwargs)"
   ]
  },
  {
   "cell_type": "code",
   "execution_count": 5,
   "metadata": {},
   "outputs": [
    {
     "name": "stdout",
     "output_type": "stream",
     "text": [
      "['', 'a', 'b', 'c', '']\n",
      "['', 'a-b-c-']\n",
      "['', 'a', 'b-c-']\n",
      "['', 'a', 'b', 'c-']\n",
      "['', 'a', 'b', 'c', '']\n"
     ]
    }
   ],
   "source": [
    "print('-a-b-c-'.split('-'))\n",
    "print('-a-b-c-'.split('-', 1)) # '-' 1개만 분리\n",
    "print('-a-b-c-'.split('-', 2)) # '-' 2개만 분리\n",
    "print('-a-b-c-'.split('-', 3)) # '-' 3개만 분리\n",
    "print('-a-b-c-'.split('-', 4)) # '-' 4개 분리"
   ]
  }
 ],
 "metadata": {
  "kernelspec": {
   "display_name": "Python 3",
   "language": "python",
   "name": "python3"
  },
  "language_info": {
   "codemirror_mode": {
    "name": "ipython",
    "version": 3
   },
   "file_extension": ".py",
   "mimetype": "text/x-python",
   "name": "python",
   "nbconvert_exporter": "python",
   "pygments_lexer": "ipython3",
   "version": "3.6.2"
  }
 },
 "nbformat": 4,
 "nbformat_minor": 2
}
