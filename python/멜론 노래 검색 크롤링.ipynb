{
 "cells": [
  {
   "cell_type": "markdown",
   "metadata": {},
   "source": [
    "## 멜론 노래검색 크롤링\n",
    "\n",
    "- Reference\n",
    "    - [AskDjango 동영상을 참고하여 실습하였습니다.](http://nomade.kr/vod/crawling/50)"
   ]
  },
  {
   "cell_type": "code",
   "execution_count": 116,
   "metadata": {
    "collapsed": true
   },
   "outputs": [],
   "source": [
    "import requests\n",
    "import json\n",
    "import os"
   ]
  },
  {
   "cell_type": "code",
   "execution_count": 139,
   "metadata": {},
   "outputs": [
    {
     "name": "stdout",
     "output_type": "stream",
     "text": [
      "아이유\n",
      "Save Finish\n",
      "Loading....\n",
      "밤편지, 밤편지, 아이유, http://www.melon.com/song/detail.htm?songId=30314784\n",
      "꽃갈피, 나의 옛날이야기, 아이유, http://www.melon.com/song/detail.htm?songId=4645220\n",
      "Palette, 팔레트 (Feat. G-DRAGON), 아이유, http://www.melon.com/song/detail.htm?songId=30378156\n",
      "마음, 마음, 아이유, http://www.melon.com/song/detail.htm?songId=5700639\n",
      "스무 살의 봄, 하루 끝, 아이유, http://www.melon.com/song/detail.htm?songId=3795586\n",
      "Modern Times - Epilogue, 금요일에 만나요 (Feat. 장이정 Of HISTORY), 아이유, http://www.melon.com/song/detail.htm?songId=4369827\n",
      "Palette, 이름에게, 아이유, http://www.melon.com/song/detail.htm?songId=30378164\n",
      "Palette, 이 지금, 아이유, http://www.melon.com/song/detail.htm?songId=30378155\n",
      "꽃갈피, 너의 의미 (Feat. 김창완), 아이유, http://www.melon.com/song/detail.htm?songId=4646573\n",
      "사랑이 잘, 사랑이 잘 (With 오혁), 아이유, http://www.melon.com/song/detail.htm?songId=30349593\n",
      "Palette, 이런 엔딩, 아이유, http://www.melon.com/song/detail.htm?songId=30378157\n",
      "CHAT-SHIRE, 스물셋, 아이유, http://www.melon.com/song/detail.htm?songId=7896508\n",
      "CHAT-SHIRE, 푸르던, 아이유, http://www.melon.com/song/detail.htm?songId=7896509\n",
      "Real, 좋은 날, 아이유, http://www.melon.com/song/detail.htm?songId=3051244\n",
      "Real+, 나만 몰랐던 이야기, 아이유, http://www.melon.com/song/detail.htm?songId=3143550\n",
      "\n"
     ]
    }
   ],
   "source": [
    "class Crawler:\n",
    "\n",
    "    def __init__(self, q):\n",
    "        self.q = q\n",
    "        self._list = []\n",
    "        Crawler.singer_num += 1\n",
    "\n",
    "    def melon_search(self):\n",
    "        url = 'http://www.melon.com/search/keyword/index.json?'\n",
    "\n",
    "        params = {\n",
    "            'jscallback': 'jQuery1910714273567860128_1512481537937',\n",
    "            'query': self.q,\n",
    "        }\n",
    "\n",
    "        response = requests.get(url, params=params).text\n",
    "        json_string = response.replace(params['jscallback'] +\n",
    "                                       '(', '').replace(');', '')\n",
    "        result_dict = json.loads(json_string)\n",
    "\n",
    "        if 'SONGCONTENTS' not in result_dict:\n",
    "            print('Not Found')\n",
    "        else:\n",
    "            for song in result_dict['SONGCONTENTS']:\n",
    "                #                 print('''{SONGNAME} {ALBUMNAME} {ARTISTNAME}\n",
    "                #                 http://www.melon.com/song/detail.htm?songId={SONGID}'''.format(**song))\n",
    "                self._list.append([song['ALBUMNAME'],\n",
    "                                   song['SONGNAME'],\n",
    "                                   song['ARTISTNAME'],\n",
    "                                   'http://www.melon.com/song/detail.htm?'\n",
    "                                   'songId={}'.format(song['SONGID'])])\n",
    "        data_list = self._list\n",
    "        self.save(data_list)\n",
    "\n",
    "    def save(self, data_list):\n",
    "        if not os.path.isdir('Data'):\n",
    "            os.mkdir('Data')\n",
    "\n",
    "        with open('./Data/data.txt', 'w') as file:\n",
    "            for data in data_list:\n",
    "                file.write(', '.join(data) + '\\n')\n",
    "            print('Save Finish')\n",
    "\n",
    "    @property\n",
    "    def load_file(self):\n",
    "        if os.path.isdir('Data'):\n",
    "            with open('./Data/data.txt', 'r') as file:\n",
    "                crawl_data = file.read()\n",
    "                yield crawl_data\n",
    "\n",
    "\n",
    "if __name__ == '__main__':\n",
    "    search = input()\n",
    "    singer = Crawler(search)\n",
    "    singer.melon_search()\n",
    "    print('Loading....')\n",
    "    for singer_info in singer.load_file:\n",
    "        print(singer_info)"
   ]
  }
 ],
 "metadata": {
  "kernelspec": {
   "display_name": "Python 3",
   "language": "python",
   "name": "python3"
  },
  "language_info": {
   "codemirror_mode": {
    "name": "ipython",
    "version": 3
   },
   "file_extension": ".py",
   "mimetype": "text/x-python",
   "name": "python",
   "nbconvert_exporter": "python",
   "pygments_lexer": "ipython3",
   "version": "3.6.2"
  }
 },
 "nbformat": 4,
 "nbformat_minor": 2
}
