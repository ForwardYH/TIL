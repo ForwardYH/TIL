{
 "cells": [
  {
   "cell_type": "code",
   "execution_count": 1,
   "metadata": {
    "collapsed": true
   },
   "outputs": [],
   "source": [
    "import pandas as pd\n",
    "import numpy as np\n",
    "from datetime import datetime\n",
    "from datetime import timedelta"
   ]
  },
  {
   "cell_type": "code",
   "execution_count": 4,
   "metadata": {},
   "outputs": [
    {
     "data": {
      "text/plain": [
       "[Timestamp('2017-01-20 00:00:00', freq='WOM-3FRI'),\n",
       " Timestamp('2017-02-17 00:00:00', freq='WOM-3FRI'),\n",
       " Timestamp('2017-03-17 00:00:00', freq='WOM-3FRI'),\n",
       " Timestamp('2017-04-21 00:00:00', freq='WOM-3FRI'),\n",
       " Timestamp('2017-05-19 00:00:00', freq='WOM-3FRI'),\n",
       " Timestamp('2017-06-16 00:00:00', freq='WOM-3FRI'),\n",
       " Timestamp('2017-07-21 00:00:00', freq='WOM-3FRI'),\n",
       " Timestamp('2017-08-18 00:00:00', freq='WOM-3FRI')]"
      ]
     },
     "execution_count": 4,
     "metadata": {},
     "output_type": "execute_result"
    }
   ],
   "source": [
    "rng = pd.date_range('1/1/2017', '9/1/2017', freq='WOM-3FRI') # 매주 셋째 주 금요일\n",
    "list(rng)"
   ]
  },
  {
   "cell_type": "markdown",
   "metadata": {},
   "source": [
    "* 오프셋만큼 날짜 시프트"
   ]
  },
  {
   "cell_type": "code",
   "execution_count": 5,
   "metadata": {
    "collapsed": true
   },
   "outputs": [],
   "source": [
    "from pandas.tseries.offsets import Day, MonthEnd"
   ]
  },
  {
   "cell_type": "code",
   "execution_count": 6,
   "metadata": {},
   "outputs": [
    {
     "data": {
      "text/plain": [
       "Timestamp('2017-09-04 00:00:00')"
      ]
     },
     "execution_count": 6,
     "metadata": {},
     "output_type": "execute_result"
    }
   ],
   "source": [
    "now = datetime(2017, 9, 1)\n",
    "now + 3 * Day()"
   ]
  },
  {
   "cell_type": "code",
   "execution_count": 8,
   "metadata": {},
   "outputs": [
    {
     "data": {
      "text/plain": [
       "Timestamp('2017-09-30 00:00:00')"
      ]
     },
     "execution_count": 8,
     "metadata": {},
     "output_type": "execute_result"
    }
   ],
   "source": [
    "now + MonthEnd()"
   ]
  },
  {
   "cell_type": "code",
   "execution_count": 10,
   "metadata": {},
   "outputs": [
    {
     "data": {
      "text/plain": [
       "Timestamp('2017-10-31 00:00:00')"
      ]
     },
     "execution_count": 10,
     "metadata": {},
     "output_type": "execute_result"
    }
   ],
   "source": [
    "now + MonthEnd(2)"
   ]
  },
  {
   "cell_type": "markdown",
   "metadata": {},
   "source": [
    "* rollforward, rollback"
   ]
  },
  {
   "cell_type": "code",
   "execution_count": 11,
   "metadata": {},
   "outputs": [
    {
     "data": {
      "text/plain": [
       "Timestamp('2017-09-30 00:00:00')"
      ]
     },
     "execution_count": 11,
     "metadata": {},
     "output_type": "execute_result"
    }
   ],
   "source": [
    "offset = MonthEnd()\n",
    "offset.rollforward(now)"
   ]
  },
  {
   "cell_type": "code",
   "execution_count": 12,
   "metadata": {},
   "outputs": [
    {
     "data": {
      "text/plain": [
       "Timestamp('2017-08-31 00:00:00')"
      ]
     },
     "execution_count": 12,
     "metadata": {},
     "output_type": "execute_result"
    }
   ],
   "source": [
    "offset.rollback(now)"
   ]
  },
  {
   "cell_type": "code",
   "execution_count": 14,
   "metadata": {},
   "outputs": [
    {
     "data": {
      "text/plain": [
       "2017-01-31    0.026317\n",
       "2017-02-28   -0.133188\n",
       "2017-03-31   -0.363750\n",
       "dtype: float64"
      ]
     },
     "execution_count": 14,
     "metadata": {},
     "output_type": "execute_result"
    }
   ],
   "source": [
    "ts = pd.Series(np.random.randn(20), index=pd.date_range('1/1/2017', periods=20, freq='4d'))\n",
    "ts.groupby(offset.rollforward).mean()"
   ]
  },
  {
   "cell_type": "code",
   "execution_count": 16,
   "metadata": {},
   "outputs": [
    {
     "data": {
      "text/plain": [
       "0.026316779216114774"
      ]
     },
     "execution_count": 16,
     "metadata": {},
     "output_type": "execute_result"
    }
   ],
   "source": [
    "ts['2017/01'].mean()"
   ]
  },
  {
   "cell_type": "code",
   "execution_count": 18,
   "metadata": {},
   "outputs": [
    {
     "data": {
      "text/plain": [
       "2017-01-31    0.026317\n",
       "2017-02-28   -0.133188\n",
       "2017-03-31   -0.363750\n",
       "Freq: M, dtype: float64"
      ]
     },
     "execution_count": 18,
     "metadata": {},
     "output_type": "execute_result"
    }
   ],
   "source": [
    "ts.resample('M').mean()"
   ]
  },
  {
   "cell_type": "markdown",
   "metadata": {},
   "source": [
    "### 시간대 다루기\n",
    "\n",
    "* 파이썬에서 시간대 정보는 전 세계의 시간대정보를 모아둔 올슨 데이터베이스를 담고 있는 서드파티 라이브러리, pytz에서 얻어옴."
   ]
  },
  {
   "cell_type": "code",
   "execution_count": 19,
   "metadata": {
    "collapsed": true
   },
   "outputs": [],
   "source": [
    "import pytz"
   ]
  },
  {
   "cell_type": "code",
   "execution_count": 20,
   "metadata": {},
   "outputs": [
    {
     "data": {
      "text/plain": [
       "['US/Eastern', 'US/Hawaii', 'US/Mountain', 'US/Pacific', 'UTC']"
      ]
     },
     "execution_count": 20,
     "metadata": {},
     "output_type": "execute_result"
    }
   ],
   "source": [
    "pytz.common_timezones[-5:]"
   ]
  },
  {
   "cell_type": "code",
   "execution_count": 22,
   "metadata": {},
   "outputs": [
    {
     "data": {
      "text/plain": [
       "<DstTzInfo 'US/Eastern' LMT-1 day, 19:04:00 STD>"
      ]
     },
     "execution_count": 22,
     "metadata": {},
     "output_type": "execute_result"
    }
   ],
   "source": [
    "tz = pytz.timezone('US/Eastern')\n",
    "tz"
   ]
  },
  {
   "cell_type": "markdown",
   "metadata": {},
   "source": [
    "### 지역화와 변환"
   ]
  },
  {
   "cell_type": "code",
   "execution_count": 26,
   "metadata": {},
   "outputs": [
    {
     "data": {
      "text/plain": [
       "2017-03-09 09:30:00   -0.848313\n",
       "2017-03-10 09:30:00   -1.168855\n",
       "2017-03-11 09:30:00   -0.673409\n",
       "2017-03-12 09:30:00    0.202332\n",
       "2017-03-13 09:30:00   -0.021606\n",
       "2017-03-14 09:30:00    0.339656\n",
       "Freq: D, dtype: float64"
      ]
     },
     "execution_count": 26,
     "metadata": {},
     "output_type": "execute_result"
    }
   ],
   "source": [
    "rng = pd.date_range('3/9/2017 9:30', periods=6, freq='D')\n",
    "ts = pd.Series(np.random.randn(len(rng)), index=rng)\n",
    "ts"
   ]
  },
  {
   "cell_type": "code",
   "execution_count": 27,
   "metadata": {},
   "outputs": [
    {
     "name": "stdout",
     "output_type": "stream",
     "text": [
      "None\n"
     ]
    }
   ],
   "source": [
    "print(ts.index.tz) # default : None"
   ]
  },
  {
   "cell_type": "markdown",
   "metadata": {},
   "source": [
    "* 시간대를 지정해서 날짜 범위를 생성할 수 있다."
   ]
  },
  {
   "cell_type": "code",
   "execution_count": 28,
   "metadata": {},
   "outputs": [
    {
     "data": {
      "text/plain": [
       "DatetimeIndex(['2017-03-09 09:30:00+00:00', '2017-03-10 09:30:00+00:00',\n",
       "               '2017-03-11 09:30:00+00:00', '2017-03-12 09:30:00+00:00',\n",
       "               '2017-03-13 09:30:00+00:00', '2017-03-14 09:30:00+00:00',\n",
       "               '2017-03-15 09:30:00+00:00', '2017-03-16 09:30:00+00:00',\n",
       "               '2017-03-17 09:30:00+00:00', '2017-03-18 09:30:00+00:00'],\n",
       "              dtype='datetime64[ns, UTC]', freq='D')"
      ]
     },
     "execution_count": 28,
     "metadata": {},
     "output_type": "execute_result"
    }
   ],
   "source": [
    "pd.date_range('3/9/2017 9:30', periods=10, freq='D', tz='UTC')"
   ]
  },
  {
   "cell_type": "markdown",
   "metadata": {},
   "source": [
    "* 지역화 시간으로의 변환은 tz_localize 메서드를 사용해서 처리할 수 있음"
   ]
  },
  {
   "cell_type": "code",
   "execution_count": 29,
   "metadata": {},
   "outputs": [
    {
     "data": {
      "text/plain": [
       "2017-03-09 09:30:00+00:00   -0.848313\n",
       "2017-03-10 09:30:00+00:00   -1.168855\n",
       "2017-03-11 09:30:00+00:00   -0.673409\n",
       "2017-03-12 09:30:00+00:00    0.202332\n",
       "2017-03-13 09:30:00+00:00   -0.021606\n",
       "2017-03-14 09:30:00+00:00    0.339656\n",
       "Freq: D, dtype: float64"
      ]
     },
     "execution_count": 29,
     "metadata": {},
     "output_type": "execute_result"
    }
   ],
   "source": [
    "ts_utc = ts.tz_localize('UTC')\n",
    "ts_utc"
   ]
  },
  {
   "cell_type": "code",
   "execution_count": 30,
   "metadata": {},
   "outputs": [
    {
     "data": {
      "text/plain": [
       "DatetimeIndex(['2017-03-09 09:30:00+00:00', '2017-03-10 09:30:00+00:00',\n",
       "               '2017-03-11 09:30:00+00:00', '2017-03-12 09:30:00+00:00',\n",
       "               '2017-03-13 09:30:00+00:00', '2017-03-14 09:30:00+00:00'],\n",
       "              dtype='datetime64[ns, UTC]', freq='D')"
      ]
     },
     "execution_count": 30,
     "metadata": {},
     "output_type": "execute_result"
    }
   ],
   "source": [
    "ts_utc.index"
   ]
  },
  {
   "cell_type": "markdown",
   "metadata": {},
   "source": [
    "* 시계열이 특정 시간대로 지역화가 되고 나면 tz_convert를 이용하여 다른 시간대로 변환할 수 있음"
   ]
  },
  {
   "cell_type": "code",
   "execution_count": 31,
   "metadata": {},
   "outputs": [
    {
     "data": {
      "text/plain": [
       "2017-03-09 04:30:00-05:00   -0.848313\n",
       "2017-03-10 04:30:00-05:00   -1.168855\n",
       "2017-03-11 04:30:00-05:00   -0.673409\n",
       "2017-03-12 05:30:00-04:00    0.202332\n",
       "2017-03-13 05:30:00-04:00   -0.021606\n",
       "2017-03-14 05:30:00-04:00    0.339656\n",
       "Freq: D, dtype: float64"
      ]
     },
     "execution_count": 31,
     "metadata": {},
     "output_type": "execute_result"
    }
   ],
   "source": [
    "ts_utc.tz_convert('US/Eastern')"
   ]
  },
  {
   "cell_type": "code",
   "execution_count": 32,
   "metadata": {},
   "outputs": [
    {
     "data": {
      "text/plain": [
       "2017-03-09 14:30:00+00:00   -0.848313\n",
       "2017-03-10 14:30:00+00:00   -1.168855\n",
       "2017-03-11 14:30:00+00:00   -0.673409\n",
       "2017-03-12 13:30:00+00:00    0.202332\n",
       "2017-03-13 13:30:00+00:00   -0.021606\n",
       "2017-03-14 13:30:00+00:00    0.339656\n",
       "Freq: D, dtype: float64"
      ]
     },
     "execution_count": 32,
     "metadata": {},
     "output_type": "execute_result"
    }
   ],
   "source": [
    "ts_eastern = ts.tz_localize('US/Eastern')\n",
    "ts_eastern.tz_convert('UTC')"
   ]
  },
  {
   "cell_type": "code",
   "execution_count": 33,
   "metadata": {},
   "outputs": [
    {
     "data": {
      "text/plain": [
       "2017-03-09 15:30:00+01:00   -0.848313\n",
       "2017-03-10 15:30:00+01:00   -1.168855\n",
       "2017-03-11 15:30:00+01:00   -0.673409\n",
       "2017-03-12 14:30:00+01:00    0.202332\n",
       "2017-03-13 14:30:00+01:00   -0.021606\n",
       "2017-03-14 14:30:00+01:00    0.339656\n",
       "Freq: D, dtype: float64"
      ]
     },
     "execution_count": 33,
     "metadata": {},
     "output_type": "execute_result"
    }
   ],
   "source": [
    "ts_eastern.tz_convert('Europe/Berlin')"
   ]
  },
  {
   "cell_type": "code",
   "execution_count": 34,
   "metadata": {},
   "outputs": [
    {
     "data": {
      "text/plain": [
       "2017-03-09 22:30:00+08:00   -0.848313\n",
       "2017-03-10 22:30:00+08:00   -1.168855\n",
       "2017-03-11 22:30:00+08:00   -0.673409\n",
       "2017-03-12 21:30:00+08:00    0.202332\n",
       "2017-03-13 21:30:00+08:00   -0.021606\n",
       "2017-03-14 21:30:00+08:00    0.339656\n",
       "Freq: D, dtype: float64"
      ]
     },
     "execution_count": 34,
     "metadata": {},
     "output_type": "execute_result"
    }
   ],
   "source": [
    "ts_eastern.tz_convert('Asia/Shanghai')"
   ]
  }
 ],
 "metadata": {
  "kernelspec": {
   "display_name": "Python 3",
   "language": "python",
   "name": "python3"
  },
  "language_info": {
   "codemirror_mode": {
    "name": "ipython",
    "version": 3
   },
   "file_extension": ".py",
   "mimetype": "text/x-python",
   "name": "python",
   "nbconvert_exporter": "python",
   "pygments_lexer": "ipython3",
   "version": "3.5.3"
  }
 },
 "nbformat": 4,
 "nbformat_minor": 2
}
