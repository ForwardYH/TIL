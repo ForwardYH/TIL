{
 "cells": [
  {
   "cell_type": "markdown",
   "metadata": {},
   "source": [
    "### 교재와 동영상 강의를 참고하여 공부한 파일입니다.\n",
    "\n",
    "* 강의 영상\n",
    "    * https://www.youtube.com/playlist?list=PLBXuLgInP-5m_vn9ycXHRl7hlsd1huqmS"
   ]
  },
  {
   "cell_type": "code",
   "execution_count": 1,
   "metadata": {
    "collapsed": true
   },
   "outputs": [],
   "source": [
    "import urllib.request as req\n",
    "import time\n",
    "from bs4 import BeautifulSoup"
   ]
  },
  {
   "cell_type": "code",
   "execution_count": 2,
   "metadata": {},
   "outputs": [
    {
     "name": "stdout",
     "output_type": "stream",
     "text": [
      "link들 : \n",
      " [<a href=\"http://www.naver.com\">naver</a>, <a href=\"http://www.daum.net\">daum</a>]\n",
      "\n",
      "type : <class 'bs4.element.ResultSet'>\n",
      "\n",
      "<a> 태그 속성:  {'href': 'http://www.naver.com'}\n",
      "naver > http://www.naver.com\n",
      "<a> 태그 속성:  {'href': 'http://www.daum.net'}\n",
      "daum > http://www.daum.net\n"
     ]
    }
   ],
   "source": [
    "html = \"\"\"\n",
    "<html><body>\n",
    "    <ul>\n",
    "        <li><a href=\"http://www.naver.com\">naver</a></li>\n",
    "        <li><a href=\"http://www.daum.net\">daum</a></li>\n",
    "    </ul>\n",
    "</body></html>\n",
    "\"\"\"\n",
    "\n",
    "# HTML 분석\n",
    "soup = BeautifulSoup(html, \"html.parser\")\n",
    "# find_all method를 이용하여 <a> 태그 추출\n",
    "links = soup.find_all(\"a\")\n",
    "print('link들 : \\n', links)\n",
    "# links의 type\n",
    "print()\n",
    "print('type :', type(links))\n",
    "print()\n",
    "for a in links:\n",
    "    print(\"<a> 태그 속성: \", a.attrs)\n",
    "    href = a.attrs['href'] #a.attrs는 dict type \n",
    "                           #href가 키값이 되고 http://www.naver.com은 value 값\n",
    "    text = a.string\n",
    "    print(text, \">\", href)"
   ]
  },
  {
   "cell_type": "code",
   "execution_count": 3,
   "metadata": {},
   "outputs": [
    {
     "name": "stdout",
     "output_type": "stream",
     "text": [
      "기상청 육상 중기예보\n",
      "기압골의 영향으로 28일은 중부지방과 전라도, 경북, 29일은 전국 대부분(서울,경기도 제외), 30일은 제주도에 비가 오겠습니다.<br />그 밖의 날은 고기압의 영향으로 대체로 맑은 날이 많겠습니다.<br />기온은 평년(최저기온: 16~23도, 최고기온: 25~30도)과 비슷하겠습니다.<br />강수량은 평년(5~19mm)과 비슷하겠습니다.\n"
     ]
    }
   ],
   "source": [
    "url = \"http://www.kma.go.kr/weather/forecast/mid-term-rss3.jsp\"\n",
    "response = req.urlopen(url)\n",
    "\n",
    "soup = BeautifulSoup(response, 'html.parser')\n",
    "\n",
    "title = soup.find(\"title\").get_text()\n",
    "wf = soup.find(\"wf\").get_text()\n",
    "print(title)\n",
    "print(wf)"
   ]
  },
  {
   "cell_type": "markdown",
   "metadata": {},
   "source": [
    "## CSS Selector\n",
    "\n",
    "* 태그 선택자\n",
    "    * \"h1\"\n",
    "    * \"html\"\n",
    "* 아이디 선택자\n",
    "    * <태그>#<아이디 이름>\"\n",
    "* 클래스 선택자\n",
    "    * <태그>.<클래스 이름>\n",
    "    * <태그>.<클래스 이름>.<클래스 이름>.<클래스 이름>(클래스가 여러개 있는 경우)\n",
    "* 후손 선택자\n",
    "    * 어떤 태그 아래 있는 모든 녀석들을 의미\n",
    "    * ex) 밑에 있는 코드를 보면 html 밑에 있는 모든 것들이 후손\n",
    "    * #태그 id li\n",
    "* 자식 선택자\n",
    "    * 어떤 태그 아래에 바로 아래 있는 자식들을 의미\n",
    "    * ex) 밑에 있는 코드를 보면 html 바로 밑에 있는 body를 의미\n",
    "    * ul.items > li"
   ]
  },
  {
   "cell_type": "code",
   "execution_count": 4,
   "metadata": {
    "collapsed": true
   },
   "outputs": [
    {
     "data": {
      "text/plain": [
       "'<div id=\\'_____\\'> 인 경우 아이디는 css에서 #을 붙여서 표시 -> div#_____\\n    => id 선택자\\n   <ul class=\\'_____\\'>인 경우 클래스는 css에서 .을 붙여셔 표시 -> ul._____\\n    => class 선택자\\n    \\n    ex) <ul class=\"items art it book\"> 같이 클래스를 여러개 가진 경우가 있을 경우 \\n    .book.art.it.items로 선택할 수 있음. 단).들 사이 공백이 있으면 안됨 \\n    '"
      ]
     },
     "execution_count": 4,
     "metadata": {},
     "output_type": "execute_result"
    }
   ],
   "source": [
    "'''<div id='_____'> 인 경우 아이디는 css에서 #을 붙여서 표시 -> div#_____\n",
    "    => id 선택자\n",
    "   <ul class='_____'>인 경우 클래스는 css에서 .을 붙여셔 표시 -> ul._____\n",
    "    => class 선택자\n",
    "    \n",
    "    ex) <ul class=\"items art it book\"> 같이 클래스를 여러개 가진 경우가 있을 경우 \n",
    "    .book.art.it.items로 선택할 수 있음. 단).들 사이 공백이 있으면 안됨 \n",
    "    '''"
   ]
  },
  {
   "cell_type": "code",
   "execution_count": 5,
   "metadata": {},
   "outputs": [
    {
     "name": "stdout",
     "output_type": "stream",
     "text": [
      "h1 : 위키북스 도서\n",
      "ul 태그의 속성: {'class': ['items']}\n",
      "li = 유니티 게임 이펙트 입문\n",
      "li = 스위프트로 시작하는 아이폰 앱 개발 교과서\n",
      "li = 모던 웹사이트 디자인의 정석\n"
     ]
    }
   ],
   "source": [
    "html = \"\"\"\n",
    "<html>\n",
    "    <body>\n",
    "    <div id=\"meigen\">\n",
    "        <h1>위키북스 도서</h1>\n",
    "        <ul class='items'>\n",
    "            <li>유니티 게임 이펙트 입문</li>\n",
    "            <li>스위프트로 시작하는 아이폰 앱 개발 교과서</li>\n",
    "            <li>모던 웹사이트 디자인의 정석</li>\n",
    "        </ul>\n",
    "    </div>\n",
    "    </body>\n",
    "</html>\n",
    "\"\"\"\n",
    "\n",
    "#HTML 분석\n",
    "soup = BeautifulSoup(html, 'html.parser')\n",
    "\n",
    "#필요한 부분 CSS 쿼리로 추출\n",
    "# 타이틀 부분 추출\n",
    "h1 = soup.select_one(\"div > h1\").get_text() # 요소\n",
    "# \n",
    "print('h1 :', h1)\n",
    "li_list = soup.select(\"ul.items > li\") # 요소의 배열\n",
    "print(\"ul 태그의 속성:\", soup.select_one(\"ul\").attrs) \n",
    "for li in li_list:\n",
    "    print(\"li =\", li.get_text())"
   ]
  },
  {
   "cell_type": "markdown",
   "metadata": {},
   "source": [
    "## 네이버 금융에서 환율 정보 추출하기"
   ]
  },
  {
   "cell_type": "code",
   "execution_count": 6,
   "metadata": {},
   "outputs": [
    {
     "name": "stdout",
     "output_type": "stream",
     "text": [
      "미국 USD 1,128.00  4.00 미국 USD\n",
      "일본 JPY(100엔) 1,030.70  6.74 원\n",
      "유럽연합 EUR 1,330.81  4.84 하락\n",
      "중국 CNY 169.30  0.56 일본 JPY(100엔)\n",
      "일본 엔/달러 109.1100  0.3000 원\n",
      "달러/유로 1.1806 0.0041 하락\n",
      "달러/영국파운드 1.2796  0.0037 유럽연합 EUR\n",
      "달러인덱스 93.0700  0.3900 원\n",
      "WTI 48.41 0.58 하락\n",
      "휘발유 1458.37 0.56 중국 CNY\n",
      "국제 금 1288.9 3.80 원\n",
      "국내 금 46675.91  149.45 하락\n"
     ]
    }
   ],
   "source": [
    "url = \"http://info.finance.naver.com/marketindex/\"\n",
    "response = req.urlopen(url)\n",
    "soup = BeautifulSoup(response, 'html.parser')\n",
    "each_country = soup.select(\"h3.h_lst\")\n",
    "won_results = soup.select(\"span.value\")\n",
    "change = soup.select(\"span.change\")\n",
    "up_or_down = soup.select(\"span.blind\")\n",
    "for country, won, change, u_o_d in zip(each_country, \n",
    "                                       won_results,\n",
    "                                       change, \n",
    "                                       up_or_down):\n",
    "    print(country.get_text(), \n",
    "          won.get_text(),\n",
    "          change.get_text(),\n",
    "          u_o_d.get_text()) # or result.string"
   ]
  },
  {
   "cell_type": "markdown",
   "metadata": {},
   "source": [
    "## 네이버 뉴스 기사 제목 긁어오기"
   ]
  },
  {
   "cell_type": "markdown",
   "metadata": {},
   "source": [
    "* strong 태그만 공통적으로 포함하고 있는 것들만 긁어오면 뉴스 제목뿐만 아니라 다른 부분에 있는 것들도 긁어 오는 것을 알 수 있다.\n",
    "* 그래서 상위에 어떤 것들이 있는지 확인해봐야 함.\n",
    "    * id는 단 하나밖에 존재하지 않음. 각 태그별 id 확인!"
   ]
  },
  {
   "cell_type": "code",
   "execution_count": 7,
   "metadata": {},
   "outputs": [
    {
     "name": "stdout",
     "output_type": "stream",
     "text": [
      "08\n",
      "24\n",
      "동영상기사\n",
      "동물복지 논란에 '실험실 고기' 주목…빌 게이츠도 투자\n",
      "케이블TV, 가입자수도 IPTV에 밀리나\n",
      "넷플릭스 이용자 1억명, 그럼에도 웃지 못하는 이유\n",
      "구글, 모바일 즉석 우울증 진단 서비스\n",
      "페이스북, 1조원에 산 인스타그램이 효자\n",
      "[집중취재] 신제품 경쟁적 출시…휴대폰 가을전쟁 '후끈'\n",
      "동영상기사\n",
      "인공고기가 미래식량?…빌 게이츠, 세번째 투자\n",
      "고동진 \"갤노트8 가격 100만원 이하로… 연내 1100만대 팔겠다\"\n",
      "영국 BBC \"노트 시리즈 부활 이끌 불사조폰\"\n",
      "마지막 가는 길, '장례 로봇'이 함께한다\n",
      "스마트폰 이후 고민 토로한 삼성전자 수장\n",
      "갤노트8 가격 100만원 안 넘을듯…고동진 \"숫자 1 부담 커\"(종합)\n",
      "카카오, `로엔` 주축 자체 제작 동영상 강화\n",
      "정부 `보편요금제` 의견 수렴… 이통사 `반대 수위` 놓고 고심\n",
      "지원금 상한제 국회 파행에 논의조차 안돼…  조기폐지 물 건너가\n",
      "[갈림길에 선 삼성] 삼성의 포스트 스마트폰은 AI… '빅스비 2020…\n",
      "'코스닥' 거래규모 넘은 가상화폐시장···플랫폼 새 먹거리로 급…\n",
      "[갈림길에 선 삼성] '혁신폰' 갤노트8 중국부터 잡는다\n",
      "고동진 뉴욕 언팩 간담회…\"갤노트8으로 `7의 악재` 모두 털 것\"\n",
      "손글씨가 그대로 '움짤'…S펜 신기해요\n",
      "역대 최고가 찍는 '8의 전쟁'···폰 가격 왜 치솟지?\n",
      "세계 IT갑부 100명 재산 '1조 달러' 넘어\n",
      "케이블TV, 가입자수도 IPTV에 밀리나\n",
      " 깨끗한나라, 릴리안 생리대 판매·생산 중단키로 \n",
      "차기 아이패드 데이터 처리 PC보다 빨리진다\n",
      "주파수 대가, '시장전체' 아닌 '해당서비스 예상매출' 기반해야\n",
      "네이버 이해진은 재벌그룹 총수인가\n",
      "지원금상한제, 예정대로 9월 말 폐지\n",
      "구글, 모바일 즉석 우울증 진단 서비스\n",
      "[갤노트8 써보니] S펜과 정교해진 갤S8의 만남? …\"스펙 → 사용…\n",
      "동영상기사\n",
      "동영상기사\n",
      "동영상기사\n",
      "None\n",
      "None\n",
      "None\n",
      "None\n",
      "None\n",
      "None\n",
      "None\n",
      "None\n",
      "None\n",
      "None\n",
      "None\n",
      "None\n",
      "None\n",
      "박성진 포항공대 교수\n",
      "깨끗한나라 릴리안 생리대\n",
      "수능 원서접수 시작\n",
      "발포명령 하달 문건\n",
      "한국당 연찬회\n",
      "러시아 폭격기\n",
      "29일 법무법인 개소식\n",
      "이재용 선고 D-1\n",
      "식약처 생리대 제조업체 5곳 현장조사\n",
      "문재인 정부\n",
      "차예련 주상욱\n",
      "엠카 선미\n",
      "김희애 김해숙\n",
      "미스터 션샤인 측\n",
      "이승환 돈의 신\n",
      "메이웨더 맥그리거\n",
      "두산 에반스\n",
      "삼성 이승엽 통산 458번째 2루타\n",
      "정창영과 결혼 정아\n",
      "병원선 하지원\n",
      "개인정보처리방침\n"
     ]
    }
   ],
   "source": [
    "#네이버 IT/과학 뉴스 부분\n",
    "url = 'http://news.naver.com/main/main.nhn?mode=LSD&mid=shm&sid1=105'\n",
    "response = req.urlopen(url)\n",
    "soup = BeautifulSoup(response, 'html.parser')\n",
    "news_titles = soup.select('strong') # strong 태그가 있는 부분만\n",
    "\n",
    "for title in news_titles:\n",
    "    print(title.string)"
   ]
  },
  {
   "cell_type": "code",
   "execution_count": 8,
   "metadata": {},
   "outputs": [
    {
     "name": "stdout",
     "output_type": "stream",
     "text": [
      "[집중취재] 신제품 경쟁적 출시…휴대폰 가을전쟁 '후끈'\n",
      "동영상기사\n",
      "인공고기가 미래식량?…빌 게이츠, 세번째 투자\n",
      "고동진 \"갤노트8 가격 100만원 이하로… 연내 1100만대 팔겠다\"\n",
      "영국 BBC \"노트 시리즈 부활 이끌 불사조폰\"\n",
      "마지막 가는 길, '장례 로봇'이 함께한다\n",
      "스마트폰 이후 고민 토로한 삼성전자 수장\n",
      "갤노트8 가격 100만원 안 넘을듯…고동진 \"숫자 1 부담 커\"(종합)\n",
      "카카오, `로엔` 주축 자체 제작 동영상 강화\n",
      "정부 `보편요금제` 의견 수렴… 이통사 `반대 수위` 놓고 고심\n",
      "지원금 상한제 국회 파행에 논의조차 안돼…  조기폐지 물 건너가\n",
      "[갈림길에 선 삼성] 삼성의 포스트 스마트폰은 AI… '빅스비 2020…\n",
      "'코스닥' 거래규모 넘은 가상화폐시장···플랫폼 새 먹거리로 급…\n",
      "[갈림길에 선 삼성] '혁신폰' 갤노트8 중국부터 잡는다\n",
      "고동진 뉴욕 언팩 간담회…\"갤노트8으로 `7의 악재` 모두 털 것\"\n",
      "손글씨가 그대로 '움짤'…S펜 신기해요\n",
      "역대 최고가 찍는 '8의 전쟁'···폰 가격 왜 치솟지?\n",
      "세계 IT갑부 100명 재산 '1조 달러' 넘어\n",
      "케이블TV, 가입자수도 IPTV에 밀리나\n",
      " 깨끗한나라, 릴리안 생리대 판매·생산 중단키로 \n",
      "차기 아이패드 데이터 처리 PC보다 빨리진다\n",
      "주파수 대가, '시장전체' 아닌 '해당서비스 예상매출' 기반해야\n",
      "네이버 이해진은 재벌그룹 총수인가\n",
      "지원금상한제, 예정대로 9월 말 폐지\n",
      "구글, 모바일 즉석 우울증 진단 서비스\n",
      "[갤노트8 써보니] S펜과 정교해진 갤S8의 만남? …\"스펙 → 사용…\n"
     ]
    }
   ],
   "source": [
    "news_titles = soup.select(\"#section_body strong\") \n",
    "# 위치 한정, <strong>태그 있는 부분\n",
    "for title in news_titles:\n",
    "    print(title.get_text())"
   ]
  },
  {
   "cell_type": "markdown",
   "metadata": {},
   "source": [
    "* 좀 더 살펴보면 strong태그로도 가져올 수 있지만 a태그 안에 있는 속성들을 이용해서 가져올 수도 있다."
   ]
  },
  {
   "cell_type": "code",
   "execution_count": 9,
   "metadata": {},
   "outputs": [
    {
     "name": "stdout",
     "output_type": "stream",
     "text": [
      "제목 : [집중취재] 신제품 경쟁적 출시…휴대폰 가을전쟁 '후끈'\n",
      "링크 : http://news.naver.com/main/read.nhn?mode=LSD&mid=shm&sid1=105&oid=214&aid=0000785671\n",
      "\n",
      "제목 : 인공고기가 미래식량?…빌 게이츠, 세번째 투자\n",
      "링크 : http://news.naver.com/main/read.nhn?mode=LSD&mid=shm&sid1=105&oid=023&aid=0003307705\n",
      "\n",
      "제목 : 고동진 \"갤노트8 가격 100만원 이하로… 연내 1100만대 팔겠다\"\n",
      "링크 : http://news.naver.com/main/read.nhn?mode=LSD&mid=shm&sid1=105&oid=015&aid=0003814198\n",
      "\n",
      "제목 : 영국 BBC \"노트 시리즈 부활 이끌 불사조폰\"\n",
      "링크 : http://news.naver.com/main/read.nhn?mode=LSD&mid=shm&sid1=105&oid=015&aid=0003814195\n",
      "\n",
      "제목 : 마지막 가는 길, '장례 로봇'이 함께한다\n",
      "링크 : http://news.naver.com/main/read.nhn?mode=LSD&mid=shm&sid1=105&oid=081&aid=0002847944\n",
      "\n",
      "제목 : 스마트폰 이후 고민 토로한 삼성전자 수장\n",
      "링크 : http://news.naver.com/main/read.nhn?mode=LSD&mid=shm&sid1=105&oid=011&aid=0003098227\n",
      "\n",
      "제목 : 갤노트8 가격 100만원 안 넘을듯…고동진 \"숫자 1 부담 커\"(종합)\n",
      "링크 : http://news.naver.com/main/read.nhn?mode=LSD&mid=shm&sid1=105&oid=001&aid=0009496923\n",
      "\n",
      "제목 : 카카오, `로엔` 주축 자체 제작 동영상 강화\n",
      "링크 : http://news.naver.com/main/read.nhn?mode=LSD&mid=shm&sid1=105&oid=029&aid=0002418846\n",
      "\n",
      "제목 : 정부 `보편요금제` 의견 수렴… 이통사 `반대 수위` 놓고 고심\n",
      "링크 : http://news.naver.com/main/read.nhn?mode=LSD&mid=shm&sid1=105&oid=029&aid=0002418843\n",
      "\n",
      "제목 : 지원금 상한제 국회 파행에 논의조차 안돼…  조기폐지 물 건너가\n",
      "링크 : http://news.naver.com/main/read.nhn?mode=LSD&mid=shm&sid1=105&oid=417&aid=0000266830\n",
      "\n",
      "제목 : [갈림길에 선 삼성] 삼성의 포스트 스마트폰은 AI… '빅스비 2020비전' 만든다\n",
      "링크 : http://news.naver.com/main/read.nhn?mode=LSD&mid=shm&sid1=105&oid=014&aid=0003863523\n",
      "\n",
      "제목 : '코스닥' 거래규모 넘은 가상화폐시장···플랫폼 새 먹거리로 급부상\n",
      "링크 : http://news.naver.com/main/read.nhn?mode=LSD&mid=shm&sid1=105&oid=011&aid=0003098168\n",
      "\n",
      "제목 : [갈림길에 선 삼성] '혁신폰' 갤노트8 중국부터 잡는다\n",
      "링크 : http://news.naver.com/main/read.nhn?mode=LSD&mid=shm&sid1=105&oid=014&aid=0003863518\n",
      "\n",
      "제목 : 고동진 뉴욕 언팩 간담회…\"갤노트8으로 `7의 악재` 모두 털 것\"\n",
      "링크 : http://news.naver.com/main/read.nhn?mode=LSD&mid=shm&sid1=105&oid=009&aid=0004002193\n",
      "\n",
      "제목 : 손글씨가 그대로 '움짤'…S펜 신기해요\n",
      "링크 : http://news.naver.com/main/read.nhn?mode=LSD&mid=shm&sid1=105&oid=009&aid=0004002192\n",
      "\n",
      "제목 : 역대 최고가 찍는 '8의 전쟁'···폰 가격 왜 치솟지?\n",
      "링크 : http://news.naver.com/main/read.nhn?mode=LSD&mid=shm&sid1=105&oid=011&aid=0003098155\n",
      "\n",
      "제목 : 세계 IT갑부 100명 재산 '1조 달러' 넘어\n",
      "링크 : http://news.naver.com/main/read.nhn?mode=LSD&mid=shm&sid1=105&oid=029&aid=0002418800\n",
      "\n",
      "제목 : 케이블TV, 가입자수도 IPTV에 밀리나\n",
      "링크 : http://news.naver.com/main/read.nhn?mode=LSD&mid=shm&sid1=105&oid=014&aid=0003863499\n",
      "\n",
      "제목 :  깨끗한나라, 릴리안 생리대 판매·생산 중단키로 \n",
      "링크 : http://news.naver.com/main/read.nhn?mode=LSD&mid=shm&sid1=105&oid=028&aid=0002377158\n",
      "\n",
      "제목 : 차기 아이패드 데이터 처리 PC보다 빨리진다\n",
      "링크 : http://news.naver.com/main/read.nhn?mode=LSD&mid=shm&sid1=105&oid=030&aid=0002636423\n",
      "\n",
      "제목 : 주파수 대가, '시장전체' 아닌 '해당서비스 예상매출' 기반해야\n",
      "링크 : http://news.naver.com/main/read.nhn?mode=LSD&mid=shm&sid1=105&oid=030&aid=0002636422\n",
      "\n",
      "제목 : 네이버 이해진은 재벌그룹 총수인가\n",
      "링크 : http://news.naver.com/main/read.nhn?mode=LSD&mid=shm&sid1=105&oid=030&aid=0002636417\n",
      "\n",
      "제목 : 지원금상한제, 예정대로 9월 말 폐지\n",
      "링크 : http://news.naver.com/main/read.nhn?mode=LSD&mid=shm&sid1=105&oid=030&aid=0002636408\n",
      "\n",
      "제목 : 구글, 모바일 즉석 우울증 진단 서비스\n",
      "링크 : http://news.naver.com/main/read.nhn?mode=LSD&mid=shm&sid1=105&oid=001&aid=0009496735\n",
      "\n",
      "제목 : [갤노트8 써보니] S펜과 정교해진 갤S8의 만남? …\"스펙 → 사용편의성 진화\"\n",
      "링크 : http://news.naver.com/main/read.nhn?mode=LSD&mid=shm&sid1=105&oid=119&aid=0002206066\n",
      "\n"
     ]
    }
   ],
   "source": [
    "news_titles = soup.select(\"#section_body a\") \n",
    "# 위치 한정, <a>태그 있는 부분\n",
    "for title in news_titles:\n",
    "    print(\"제목 :\", title.attrs[\"title\"])\n",
    "    print(\"링크 :\", title.attrs[\"href\"])\n",
    "    print(\"\")"
   ]
  },
  {
   "cell_type": "markdown",
   "metadata": {},
   "source": [
    "### 기사 제목으로 타고 들어가서 기사 내용 긁어오기\n",
    "\n",
    "* 출력 결과를 보면 본문 내용만 출력된 것이 아니라 자잘한 것들이 많이 출력된 것을 알 수 있다.\n",
    "\n",
    "* 이 부분들을 가공을 해보자"
   ]
  },
  {
   "cell_type": "code",
   "execution_count": 10,
   "metadata": {
    "scrolled": false
   },
   "outputs": [
    {
     "name": "stdout",
     "output_type": "stream",
     "text": [
      "제목 : [집중취재] 신제품 경쟁적 출시…휴대폰 가을전쟁 '후끈'\n",
      "\n",
      " 본문 내용 \n",
      " TV플레이어 \n",
      "<div class=\"vod_area\">\n",
      "<iframe _src=\"/main/readVod.nhn?oid=214&amp;aid=0000785671&amp;foreignPlayVod=true\" allowfullscreen=\"\" frameborder=\"0\" height=\"342\" marginheight=\"0\" marginwidth=\"0\" title=\"영상 플레이어\" width=\"544\"></iframe>\n",
      "</div>\n",
      " // TV플레이어 \n",
      "<script type=\"text/javascript\">\n",
      "// flash 오류를 우회하기 위한 함수 추가\n",
      "function _flash_removeCallback() {}\n",
      "</script>\n",
      "\t\n",
      "\t[뉴스데스크]◀ 앵커 ▶<br/><br/>삼성의 스마트폰 신제품이 미국에서 선을 보이면서 프리미엄 휴대폰 가을전쟁의 시작을 알렸습니다.<br/><br/>국내에선 약정요금 할인율 상향조정까지 앞두고 있어서 소비자들의 관심이 높아지고 있습니다.<br/><br/>정영훈 기자가 보도합니다.<br/><br/>◀ 리포트 ▶ <br/><br/>미국에서 공개된 삼성전자의 갤럭시 노트8.<br/> <br/>화면 대각선 길이가 6.3인치로 노트 시리즈 가운데 가장 큽니다.<br/> <br/>테두리를 최소화한 디자인과 함께, 1천2백만 화소의 광각 카메라와 망원 카메라가 함께 장착된 점이 눈길을 끌었습니다.<br/> <br/>[루이스/IT 전문가]<br/>\"제일 눈에 띈 건 듀얼 카메라였어요. (갤럭시 시리즈 중에) 듀얼 카메라는 처음이잖아요. 정말 대단한 것 같아요.\"<br/><br/>[조나단 루비니/IT 전문가]<br/>\"듀얼 카메라가 새로운 기술은 아니지만 아이폰보다는 성능이 더 뛰어난 것 같아요.\"<br/><br/>무엇보다 전작 노트 7의 발화 문제로 홍역을 치른 뒤라 안전문제가 관심이었는데, 삼성전자는 배터리 용량은 줄였지만 사용시간은 비슷하다고 강조했습니다.<br/><br/>[고동진/삼성전자 사장]<br/>\"멀티태스킹이 쉽고, 필기는 효과적이며, 그림은 생생하도록 만들었습니다.\"<br/> <br/>국내출시는 다음 달 15일인데, 서울에 체험존을 열고 본격적인 마케팅에 돌입했습니다.<br/><br/>LG전자는 다음 달 출시 예정인 스마트폰 V30의 티저 광고 2편을 공개하며 맞불을 놨습니다.<br/><br/>더 커진 화면과 카메라를 내세울 예정입니다.<br/><br/>[소지섭/LG전자 홍보팀 과장]<br/>\"LG V30는 전작보다 화면이 더 커지면서 제품 크기는 오히려 작아진 OLED 풀비전 디스플레이와 전문가급 고성능 카메라 등 강화된 멀티미디어 기능들을 누구나 쉽게 즐길 수 있도록 설계되었습니다.\"<br/> <br/>또 애플이 아이폰 10주년 기념작으로 야심 차게 준비한 '아이폰8'도 다음 달 초 베일을 벗습니다.<br/><br/>신제품 출시를 앞둔 상태여서 휴대전화 매장은 다소 한산한 모습입니다.<br/><br/>소비자들은 게다가 다음 달 15일부터 적용되는 선택약정 요금할인율 상향조정을 기다리고 있습니다.<br/><br/>[이종무/KT 광화문점]<br/>\"다음 달 신제품 스마트폰이 나올 예정이어서 사람들의 문의가 많이 들어오고 있어요. 그래서 다음 달 판매량도 기대가 되고 있습니다.\"<br/><br/>신규가입자를 상대로 한 이동통신 요금제 변화까지 맞물리면서 올가을 프리미엄 휴대폰 전쟁은 어느 때보다 뜨겁게 치러질 걸로 보입니다.<br/><br/>MBC뉴스 정영훈입니다.<br/><br/>정영훈기자 <br/><br/>[저작권자(c) MBC (www.imnews.com) 무단복제-재배포 금지]<br/><br/><br/>Copyright(c) Since 1996, <a href=\"http://imnews.imbc.com\" target=\"_blank\">MBC</a>&<a href=\"http://www.imbc.com/\" target=\"_blank\">iMBC</a> All rights reserved.\n",
      "\t // 본문 내용 \n",
      "\n"
     ]
    },
    {
     "ename": "KeyboardInterrupt",
     "evalue": "",
     "output_type": "error",
     "traceback": [
      "\u001b[1;31m---------------------------------------------------------------------------\u001b[0m",
      "\u001b[1;31mKeyboardInterrupt\u001b[0m                         Traceback (most recent call last)",
      "\u001b[1;32m<ipython-input-10-7a66e3779df7>\u001b[0m in \u001b[0;36m<module>\u001b[1;34m()\u001b[0m\n\u001b[0;32m     13\u001b[0m         \u001b[0moutput\u001b[0m \u001b[1;33m+=\u001b[0m \u001b[0mstr\u001b[0m\u001b[1;33m(\u001b[0m\u001b[0mitem\u001b[0m\u001b[1;33m)\u001b[0m\u001b[1;33m\u001b[0m\u001b[0m\n\u001b[0;32m     14\u001b[0m     \u001b[0mprint\u001b[0m\u001b[1;33m(\u001b[0m\u001b[0moutput\u001b[0m\u001b[1;33m)\u001b[0m\u001b[1;33m\u001b[0m\u001b[0m\n\u001b[1;32m---> 15\u001b[1;33m     \u001b[0mtime\u001b[0m\u001b[1;33m.\u001b[0m\u001b[0msleep\u001b[0m\u001b[1;33m(\u001b[0m\u001b[1;36m30\u001b[0m\u001b[1;33m)\u001b[0m\u001b[1;33m\u001b[0m\u001b[0m\n\u001b[0m",
      "\u001b[1;31mKeyboardInterrupt\u001b[0m: "
     ]
    }
   ],
   "source": [
    "url = 'http://news.naver.com/main/main.nhn?mode=LSD&mid=shm&sid1=105'\n",
    "response = req.urlopen(url)\n",
    "soup = BeautifulSoup(response, 'html.parser')\n",
    "news_titles = soup.select(\"#section_body a\") \n",
    "for title in news_titles:\n",
    "    print(\"제목 :\", title.attrs['title'])\n",
    "    url_article_link = title.attrs['href']\n",
    "    res = req.urlopen(url_article_link)\n",
    "    soup_article = BeautifulSoup(res, 'html.parser')\n",
    "    contents = soup_article.select_one('#articleBodyContents')\n",
    "    output = ''\n",
    "    for item in contents.contents:\n",
    "        output += str(item)\n",
    "    print(output)\n",
    "    time.sleep(30) # 악의적인 크롤링으로 의심받지 않기 위해 시간텀 주기"
   ]
  },
  {
   "cell_type": "markdown",
   "metadata": {},
   "source": [
    "* 가공해보기"
   ]
  },
  {
   "cell_type": "code",
   "execution_count": 11,
   "metadata": {},
   "outputs": [
    {
     "name": "stdout",
     "output_type": "stream",
     "text": [
      "제목 : [집중취재] 신제품 경쟁적 출시…휴대폰 가을전쟁 '후끈'\n",
      "[뉴스데스크]◀ 앵커 ▶삼성의 스마트폰 신제품이 미국에서 선을 보이면서 프리미엄 휴대폰 가을전쟁의 시작을 알렸습니다.국내에선 약정요금 할인율 상향조정까지 앞두고 있어서 소비자들의 관심이 높아지고 있습니다.정영훈 기자가 보도합니다.◀ 리포트 ▶미국에서 공개된 삼성전자의 갤럭시 노트8.화면 대각선 길이가 6.3인치로 노트 시리즈 가운데 가장 큽니다.테두리를 최소화한 디자인과 함께, 1천2백만 화소의 광각 카메라와 망원 카메라가 함께 장착된 점이 눈길을 끌었습니다.[루이스/IT 전문가]\"제일 눈에 띈 건 듀얼 카메라였어요. (갤럭시 시리즈 중에) 듀얼 카메라는 처음이잖아요. 정말 대단한 것 같아요.\"[조나단 루비니/IT 전문가]\"듀얼 카메라가 새로운 기술은 아니지만 아이폰보다는 성능이 더 뛰어난 것 같아요.\"무엇보다 전작 노트 7의 발화 문제로 홍역을 치른 뒤라 안전문제가 관심이었는데, 삼성전자는 배터리 용량은 줄였지만 사용시간은 비슷하다고 강조했습니다.[고동진/삼성전자 사장]\"멀티태스킹이 쉽고, 필기는 효과적이며, 그림은 생생하도록 만들었습니다.\"국내출시는 다음 달 15일인데, 서울에 체험존을 열고 본격적인 마케팅에 돌입했습니다.LG전자는 다음 달 출시 예정인 스마트폰 V30의 티저 광고 2편을 공개하며 맞불을 놨습니다.더 커진 화면과 카메라를 내세울 예정입니다.[소지섭/LG전자 홍보팀 과장]\"LG V30는 전작보다 화면이 더 커지면서 제품 크기는 오히려 작아진 OLED 풀비전 디스플레이와 전문가급 고성능 카메라 등 강화된 멀티미디어 기능들을 누구나 쉽게 즐길 수 있도록 설계되었습니다.\"또 애플이 아이폰 10주년 기념작으로 야심 차게 준비한 '아이폰8'도 다음 달 초 베일을 벗습니다.신제품 출시를 앞둔 상태여서 휴대전화 매장은 다소 한산한 모습입니다.소비자들은 게다가 다음 달 15일부터 적용되는 선택약정 요금할인율 상향조정을 기다리고 있습니다.[이종무/KT 광화문점]\"다음 달 신제품 스마트폰이 나올 예정이어서 사람들의 문의가 많이 들어오고 있어요. 그래서 다음 달 판매량도 기대가 되고 있습니다.\"신규가입자를 상대로 한 이동통신 요금제 변화까지 맞물리면서 올가을 프리미엄 휴대폰 전쟁은 어느 때보다 뜨겁게 치러질 걸로 보입니다.MBC뉴스 정영훈입니다.정영훈기자[저작권자(c) MBC (www.imnews.com) 무단복제-재배포 금지]Copyright(c) Since 1996,&All rights reserved.\n"
     ]
    },
    {
     "ename": "KeyboardInterrupt",
     "evalue": "",
     "output_type": "error",
     "traceback": [
      "\u001b[1;31m---------------------------------------------------------------------------\u001b[0m",
      "\u001b[1;31mKeyboardInterrupt\u001b[0m                         Traceback (most recent call last)",
      "\u001b[1;32m<ipython-input-11-6b6cf0e9c51b>\u001b[0m in \u001b[0;36m<module>\u001b[1;34m()\u001b[0m\n\u001b[0;32m     19\u001b[0m     \u001b[0mprint\u001b[0m\u001b[1;33m(\u001b[0m\u001b[0mcleansing_news\u001b[0m\u001b[1;33m)\u001b[0m\u001b[1;33m\u001b[0m\u001b[0m\n\u001b[0;32m     20\u001b[0m \u001b[1;33m\u001b[0m\u001b[0m\n\u001b[1;32m---> 21\u001b[1;33m     \u001b[0mtime\u001b[0m\u001b[1;33m.\u001b[0m\u001b[0msleep\u001b[0m\u001b[1;33m(\u001b[0m\u001b[1;36m15\u001b[0m\u001b[1;33m)\u001b[0m\u001b[1;33m\u001b[0m\u001b[0m\n\u001b[0m",
      "\u001b[1;31mKeyboardInterrupt\u001b[0m: "
     ]
    }
   ],
   "source": [
    "url = 'http://news.naver.com/main/main.nhn?mode=LSD&mid=shm&sid1=105'\n",
    "response = req.urlopen(url)\n",
    "soup = BeautifulSoup(response, 'html.parser')\n",
    "news_titles = soup.select(\"#section_body a\") \n",
    "for title in news_titles:\n",
    "    print(\"제목 :\", title.attrs['title'])\n",
    "    url_article_link = title.attrs['href']\n",
    "    res = req.urlopen(url_article_link)\n",
    "    soup_article = BeautifulSoup(res, 'html.parser')\n",
    "    contents = soup_article.select_one('#articleBodyContents')\n",
    "    output = ''\n",
    "    for item in contents.contents:\n",
    "        stripped = str(item).strip()\n",
    "        if stripped == \"\":\n",
    "            continue\n",
    "        if stripped[0] not in [\"<\", \"/\"]:\n",
    "            output += str(item).strip()\n",
    "    cleansing_news = output.replace('본문 내용TV플레이어', '')\n",
    "    print(cleansing_news)\n",
    "\n",
    "    time.sleep(15)"
   ]
  },
  {
   "cell_type": "markdown",
   "metadata": {},
   "source": [
    "### 위키 문헌에 공개되어 있는 윤동주 작가의 작품 목록 가져오기\n",
    "* %EC%A0%80%EC%9E%90:%EC%9C%A4%EB%8F%99%EC%A3%BC\n",
    "    * 이 부분은 '저자:윤동주' 인코딩 된 부분"
   ]
  },
  {
   "cell_type": "code",
   "execution_count": 15,
   "metadata": {},
   "outputs": [
    {
     "name": "stdout",
     "output_type": "stream",
     "text": [
      "- 하늘과 바람과 별과 시\n",
      "- 서시\n",
      "- 자화상\n",
      "- 소년\n",
      "- 눈 오는 지도\n",
      "- 돌아와 보는 밤\n",
      "- 병원\n",
      "- 새로운 길\n",
      "- 간판 없는 거리\n",
      "- 태초의 아침\n",
      "- 또 태초의 아침\n",
      "- 새벽이 올 때까지\n",
      "- 무서운 시간\n",
      "- 십자가\n",
      "- 바람이 불어\n",
      "- 슬픈 족속\n",
      "- 눈감고 간다\n",
      "- 또 다른 고향\n",
      "- 길\n",
      "- 별 헤는 밤\n",
      "- 흰 그림자\n",
      "- 사랑스런 추억\n",
      "- 흐르는 거리\n",
      "- 쉽게 씌어진 시\n",
      "- 봄\n",
      "- 참회록\n",
      "- 간(肝)\n",
      "- 위로\n",
      "- 팔복\n",
      "- 못자는밤\n",
      "- 달같이\n",
      "- 고추밭\n",
      "- 아우의 인상화\n",
      "- 사랑의 전당\n",
      "- 이적\n",
      "- 비오는 밤\n",
      "- 산골물\n",
      "- 유언\n",
      "- 창\n",
      "- 바다\n",
      "- 비로봉\n",
      "- 산협의 오후\n",
      "- 명상\n",
      "- 소낙비\n",
      "- 한난계\n",
      "- 풍경\n",
      "- 달밤\n",
      "- 장\n",
      "- 밤\n",
      "- 황혼이 바다가 되어\n",
      "- 아침\n",
      "- 빨래\n",
      "- 꿈은 깨어지고\n",
      "- 산림\n",
      "- 이런날\n",
      "- 산상\n",
      "- 양지쪽\n",
      "- 닭\n",
      "- 가슴 1\n",
      "- 가슴 2\n",
      "- 비둘기\n",
      "- 황혼\n",
      "- 남쪽 하늘\n",
      "- 창공\n",
      "- 거리에서\n",
      "- 삶과 죽음\n",
      "- 초한대\n",
      "- 산울림\n",
      "- 해바라기 얼굴\n",
      "- 귀뚜라미와 나와\n",
      "- 애기의 새벽\n",
      "- 햇빛·바람\n",
      "- 반디불\n",
      "- 둘 다\n",
      "- 거짓부리\n",
      "- 눈\n",
      "- 참새\n",
      "- 버선본\n",
      "- 편지\n",
      "- 봄\n",
      "- 무얼 먹구 사나\n",
      "- 굴뚝\n",
      "- 햇비\n",
      "- 빗자루\n",
      "- 기왓장 내외\n",
      "- 오줌싸개 지도\n",
      "- 병아리\n",
      "- 조개껍질\n",
      "- 겨울\n",
      "- 트루게네프의 언덕\n",
      "- 달을 쏘다\n",
      "- 별똥 떨어진 데\n",
      "- 화원에 꽃이 핀다\n",
      "- 종시\n"
     ]
    }
   ],
   "source": [
    "url = \"https://ko.wikisource.org/wiki/%EC%A0%80%EC%9E%90:%EC%9C%A4%EB%8F%99%EC%A3%BC\"\n",
    "response = req.urlopen(url)\n",
    "soup = BeautifulSoup(response, 'html.parser')\n",
    "\n",
    "# mw-content-text 바로 아래에 있는\n",
    "# ul 태그 바로 아래에 있는\n",
    "# li 태그 아래에 있는\n",
    "# a 태그를 모두 선택\n",
    "\n",
    "a_list = soup.select(\"#mw-content-text ul li a\")\n",
    "for a in a_list:\n",
    "    name = a.string\n",
    "    print(\"-\", name)"
   ]
  },
  {
   "cell_type": "markdown",
   "metadata": {},
   "source": [
    "### CSS Selector로 추출 연습"
   ]
  },
  {
   "cell_type": "code",
   "execution_count": 27,
   "metadata": {},
   "outputs": [
    {
     "name": "stdout",
     "output_type": "stream",
     "text": [
      "<ul id=\"bible\">\n",
      "  <li id=\"ge\">Genesis</li>\n",
      "  <li id=\"ex\">Exodus</li>\n",
      "  <li id=\"le\">Leviticus</li>\n",
      "  <li id=\"nu\">Numbers</li>\n",
      "  <li id=\"de\">Deuteronomy</li>\n",
      "</ul>\n"
     ]
    }
   ],
   "source": [
    "with open('./python-for-machine-learning_20170612/ch1/books.html', 'r') as html_data:\n",
    "    data = html_data.read()\n",
    "print(data)"
   ]
  },
  {
   "cell_type": "code",
   "execution_count": 28,
   "metadata": {},
   "outputs": [
    {
     "name": "stdout",
     "output_type": "stream",
     "text": [
      "Numbers\n",
      "Numbers\n",
      "Numbers\n",
      "Numbers\n",
      "Numbers\n",
      "Numbers\n",
      "Numbers\n",
      "Numbers\n",
      "Numbers\n",
      "Numbers\n"
     ]
    }
   ],
   "source": [
    "# Numbers 요소를 추출하는 경우\n",
    "soup = BeautifulSoup(data, 'html.parser')\n",
    "sel = lambda q : print(soup.select_one(q).string)\n",
    "sel(\"#nu\") # id가 nu\n",
    "sel(\"li#nu\")# li태그의 id가 nu\n",
    "sel(\"ul > li#nu\")# ul태그 밑에 있는 li태그 중 id가 nu\n",
    "sel(\"#bible #nu\")# id 속성을 이용하여 #bible 아래의 #nu 선택\n",
    "sel(\"#bible > #nu\")# 태그들이 직접적인 부모 자식 관계를 가지고 있음을 나타냄\n",
    "sel(\"ul#bible > li#nu\")# id가 bible인 ul태그 바로 아래에 있는 id가 nu인 li 태그 선택\n",
    "sel(\"li[id='nu']\")#속성 검색을 사용하여 id가 nu인 li태그 지정 \n",
    "sel(\"li:nth-of-type(4)\")# 4번째 li 태그 추출\n",
    "\n",
    "# 그 밖의 방법\n",
    "print(soup.select('li')[3].string) \n",
    "print(soup.find_all('li')[3].string)"
   ]
  },
  {
   "cell_type": "markdown",
   "metadata": {},
   "source": [
    "### CSS 선택자로 과일과 야채 선택해보기"
   ]
  },
  {
   "cell_type": "code",
   "execution_count": 39,
   "metadata": {},
   "outputs": [
    {
     "name": "stdout",
     "output_type": "stream",
     "text": [
      "<html>\n",
      "<body>\n",
      "<div id=\"main-goods\" role=\"page\">\n",
      "  <h1>과일과 야채</h1>\n",
      "  <ul id=\"fr-list\">\n",
      "    <li class=\"red green\" data-lo=\"ko\">사과</li>\n",
      "    <li class=\"purple\" data-lo=\"us\">포도</li>\n",
      "    <li class=\"yellow\" data-lo=\"us\">레몬</li>\n",
      "    <li class=\"yellow\" data-lo=\"ko\">오렌지</li>\n",
      "  </ul>\n",
      "  <ul id=\"ve-list\">\n",
      "    <li class=\"white green\" data-lo=\"ko\">무</li>\n",
      "    <li class=\"red green\" data-lo=\"us\">파프리카</li>\n",
      "    <li class=\"black\" data-lo=\"ko\">가지</li>\n",
      "    <li class=\"black\" data-lo=\"us\">아보카도</li>\n",
      "    <li class=\"white\" data-lo=\"cn\">연근</li>\n",
      "  </ul>\n",
      "</div>\n",
      "<body>\n",
      "</html>\n"
     ]
    }
   ],
   "source": [
    "with open('./python-for-machine-learning_20170612/ch1/fruits-vegetables.html', \\\n",
    "          'r',encoding='utf-8') as html_data:\n",
    "    data = html_data.read()\n",
    "print(data)"
   ]
  },
  {
   "cell_type": "code",
   "execution_count": 42,
   "metadata": {},
   "outputs": [
    {
     "name": "stdout",
     "output_type": "stream",
     "text": [
      "아보카도\n",
      "아보카도\n",
      "아보카도\n",
      "아보카도\n",
      "아보카도\n",
      "아보카도\n"
     ]
    }
   ],
   "source": [
    "#위의 코드에서 아보카도 추출하기\n",
    "\n",
    "# CSS Selector로 추출\n",
    "soup = BeautifulSoup(data, 'html.parser')\n",
    "print(soup.select_one(\"li:nth-of-type(8)\").string)\n",
    "print(soup.select_one(\"#ve-list > li:nth-of-type(4)\").string)\n",
    "print(soup.select(\"#ve-list > li[data-lo='us']\")[1].string)\n",
    "print(soup.select(\"#ve-list > li.black\")[1].string)\n",
    "\n",
    "# find Method로 추출\n",
    "condition = {\"data-lo\":\"us\", \"class\":\"black\"}\n",
    "print(soup.find(\"li\", condition).string)\n",
    "\n",
    "# find Method를 연속적으로 사용하기\n",
    "print(soup.find(id=\"ve-list\")\n",
    "          .find(\"li\", condition).string)\n"
   ]
  },
  {
   "cell_type": "markdown",
   "metadata": {},
   "source": [
    "### 정규 표현식과 함께 조합"
   ]
  },
  {
   "cell_type": "code",
   "execution_count": 43,
   "metadata": {
    "collapsed": true
   },
   "outputs": [],
   "source": [
    "import re"
   ]
  },
  {
   "cell_type": "code",
   "execution_count": 45,
   "metadata": {},
   "outputs": [
    {
     "name": "stdout",
     "output_type": "stream",
     "text": [
      "https://example.com/fuga\n",
      "https://example.com/foo\n"
     ]
    }
   ],
   "source": [
    "html = \"\"\"\n",
    "<ul>\n",
    "    <li><a href=\"hoge.html\">hoge</li>\n",
    "    <li><a href=\"https://example.com/fuga\">fuga*</li>\n",
    "    <li><a href=\"https://example.com/foo\">foo*</li>\n",
    "    <li><a href=\"http://example.com/aaa\">aaa</li>\n",
    "</ul>\n",
    "\"\"\"\n",
    "\n",
    "soup = BeautifulSoup(html, \"html.parser\")\n",
    "# 정규 표현식으로 href에서 https인 것만 추출하기\n",
    "\n",
    "li = soup.find_all(href=re.compile(r'^https://'))\n",
    "                    # https로 시작하는것들만 뽑기\n",
    "for correct in li:\n",
    "    print(correct.attrs[\"href\"])"
   ]
  }
 ],
 "metadata": {
  "kernelspec": {
   "display_name": "Python 3",
   "language": "python",
   "name": "python3"
  },
  "language_info": {
   "codemirror_mode": {
    "name": "ipython",
    "version": 3
   },
   "file_extension": ".py",
   "mimetype": "text/x-python",
   "name": "python",
   "nbconvert_exporter": "python",
   "pygments_lexer": "ipython3",
   "version": "3.5.3"
  }
 },
 "nbformat": 4,
 "nbformat_minor": 2
}
