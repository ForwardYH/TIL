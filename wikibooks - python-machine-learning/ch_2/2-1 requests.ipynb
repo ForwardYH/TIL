{
 "cells": [
  {
   "cell_type": "markdown",
   "metadata": {},
   "source": [
    "## 한빛출판네트워크 홈페이지에서 로그인하기\n",
    "* python 내부에서 로그인하기!\n",
    "* 홈페이지 내부에서 로그인 과정\n",
    "    * index.html -> login_pro.php -> login.html"
   ]
  },
  {
   "cell_type": "markdown",
   "metadata": {},
   "source": [
    "# Reference\n",
    "\n",
    "* https://www.youtube.com/watch?v=qUXBigB269w&index=7&list=PLBXuLgInP-5m_vn9ycXHRl7hlsd1huqmS"
   ]
  },
  {
   "cell_type": "code",
   "execution_count": 1,
   "metadata": {
    "collapsed": true
   },
   "outputs": [],
   "source": [
    "import requests\n",
    "from bs4 import BeautifulSoup"
   ]
  },
  {
   "cell_type": "code",
   "execution_count": 4,
   "metadata": {},
   "outputs": [
    {
     "name": "stdout",
     "output_type": "stream",
     "text": [
      "마일리지:  2,000\n",
      "이코인:  0\n"
     ]
    }
   ],
   "source": [
    "# 세션 만들기\n",
    "session = requests.session()\n",
    "# 로그인\n",
    "url = 'http://www.hanbit.co.kr/member/login_proc.php'\n",
    "data = {\n",
    "    \"return_url\": \"http://www.hanbit.co.kr/index.html\",\n",
    "    \"m_id\" : \"<Your ID>\",\n",
    "    \"m_passwd\" : \"<Your Password>\"\n",
    "}\n",
    "response = session.post(url, data=data)\n",
    "response.raise_for_status() # 오류가 발생하면 예외가 발생함\n",
    "\n",
    "# 마일리지, 이코인 들고와보기\n",
    "\n",
    "url = 'http://www.hanbit.co.kr/myhanbit/myhanbit.html'\n",
    "response = session.get(url)\n",
    "response.raise_for_status()\n",
    "soup = BeautifulSoup(response.text, \"html.parser\")\n",
    "mileage = soup.select_one(\".mileage_section1 span\").get_text()\n",
    "ecoin = soup.select_one(\".mileage_section2 span\").get_text()\n",
    "\n",
    "print(\"마일리지: \", mileage)\n",
    "print(\"이코인: \", ecoin)"
   ]
  }
 ],
 "metadata": {
  "kernelspec": {
   "display_name": "Python 3",
   "language": "python",
   "name": "python3"
  },
  "language_info": {
   "codemirror_mode": {
    "name": "ipython",
    "version": 3
   },
   "file_extension": ".py",
   "mimetype": "text/x-python",
   "name": "python",
   "nbconvert_exporter": "python",
   "pygments_lexer": "ipython3",
   "version": "3.5.3"
  }
 },
 "nbformat": 4,
 "nbformat_minor": 2
}
