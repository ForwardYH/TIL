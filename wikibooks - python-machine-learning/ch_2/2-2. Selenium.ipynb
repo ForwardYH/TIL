{
 "cells": [
  {
   "cell_type": "markdown",
   "metadata": {},
   "source": [
    "# Reference\n",
    "\n",
    "* 교재\n",
    "* [강의 동영상](https://www.youtube.com/watch?v=6wG4lSB76Q0&t=290s&index=9&list=PLBXuLgInP-5m_vn9ycXHRl7hlsd1huqmS)\n",
    "\n",
    "\n",
    "### chromedriver 설치하기\n",
    "* [Chromedriver download](https://sites.google.com/a/chromium.org/chromedriver/downloads)"
   ]
  },
  {
   "cell_type": "code",
   "execution_count": 14,
   "metadata": {
    "collapsed": true
   },
   "outputs": [],
   "source": [
    "from selenium import webdriver"
   ]
  },
  {
   "cell_type": "code",
   "execution_count": 16,
   "metadata": {
    "collapsed": true
   },
   "outputs": [],
   "source": [
    "chrome = './chromedriver' # Chromedriver.exe가 있는 경로\n",
    "url = \"http://www.naver.com\"\n",
    "# Chrome 드라이버 추출\n",
    "browser = webdriver.Chrome(chrome)\n",
    "# 3초 대기\n",
    "browser.implicitly_wait(3)\n",
    "# URL 읽어 들이기\n",
    "browser.get(url)\n",
    "# 화면을 캡쳐해서 저장하기\n",
    "browser.save_screenshot(\"Website.png\")\n",
    "# 브라우저 종료하기\n",
    "browser.quit()"
   ]
  },
  {
   "cell_type": "markdown",
   "metadata": {},
   "source": [
    "* 네이버에 로그인해서 메일 제목들 가져오기"
   ]
  },
  {
   "cell_type": "code",
   "execution_count": 22,
   "metadata": {},
   "outputs": [
    {
     "name": "stdout",
     "output_type": "stream",
     "text": [
      "로그인 페이지에 접근합니다.\n",
      "로그인 버튼을 클릭합니다.\n",
      "- (광고) [CJ ONE] 미리 준비하는 원더풀 포인트데이! 온마트 추석 선물세트 기획전\n",
      "- [K-MOOC] 8월 뉴스레터 창간준비호(vol. 2) : K-MOOC를 만드는 사람들\n",
      "- ★포스코그룹★ 하반기 서류 접수 시작! 각 계열사 채용 일정 확인하러 가기!\n",
      "- ● 포스코그룹, LF, E1 신입사원 채용 소식! 확정 공고와 자소서 항목까지 살펴보세요!\n",
      "- [한빛출판네트워크] 가입해주셔서 감사합니다.\n",
      "- ● 현대모비스, 현대오토에버 채용 속보! / KT, 합격자소서는 왜 합격했을까?\n",
      "- 첫 직장의 중요성, 앞으로를 위해서라도 포기하시면 안됩니다. (Feat. 이직)\n",
      "- LG Careers 장기 미 접속 회원 정보 삭제 안내\n",
      "- (광고) [스타벅스] `마이 스타벅스 리뷰’ 설문 참여 시, 별 1개를 드려요!\n",
      "- 10초만에 '가장 입사하고 싶은 기업'에 투표하고, 스타벅스 음료 기프티콘 받으세요!\n",
      "- ♨스펙업 속보♨SK그룹/GS리테일/한화케미칼/현대엔지니어링 하반기 확정/예정 채용공고 업로드! 기업별 채용일정 확인하고 기업분석&자소서 가이드북 받으러 가기!\n",
      "- [OK캐쉬백] 개인정보이용내역 안내\n",
      "- ● SK그룹, GS리테일, KT그룹, 현대엔지니어링, 현대글로비스 등 신입 공채 속보\n",
      "- (광고) 지금 포토티켓 쿠폰이 반값?\n",
      "- (광고)[온오프믹스 뉴스] '나'를 아끼는 현명한 습관, 8월 마지막 모임 소식!!\n"
     ]
    }
   ],
   "source": [
    "url = \"https://nid.naver.com/nidlogin.login\"\n",
    "browser = webdriver.Chrome(chrome)\n",
    "browser.implicitly_wait(3)\n",
    "\n",
    "# 로그인 페이지에 접근하기\n",
    "browser.get(url)\n",
    "print(\"로그인 페이지에 접근합니다.\")\n",
    "\n",
    "# 텍스트 박스에 아이디와 비밀번호 입력하기\n",
    "element_id = browser.find_element_by_id(\"id\") # id 텍스트 입력 상자\n",
    "element_id.clear()\n",
    "element_id.send_keys(\"Your Naver ID\")\n",
    "\n",
    "element_pw = browser.find_element_by_id(\"pw\") # 비밀번호 텍스트 입력 상자\n",
    "element_pw.clear()\n",
    "element_pw.send_keys(\"Your Naver Password\")\n",
    "#browser.save_screenshot(\"Website_login_a.png\") 스크린샷 찍기\n",
    "\n",
    "# 입력 양식 전송해서 로그인하기\n",
    "button = browser.find_element_by_css_selector(\"input.btn_global[type=submit]\")\n",
    "button.submit()\n",
    "print(\"로그인 버튼을 클릭합니다.\")\n",
    "\n",
    "# 메일 페이지 메일 제목 데이터 출력하기\n",
    "mail_url = \"https://mail.naver.com/\"\n",
    "browser.get(mail_url)\n",
    "#browser.save_screenshot(\"Website_mail_page.png\")\n",
    "titles = browser.find_elements_by_css_selector(\"strong.mail_title\")\n",
    "for title in titles:\n",
    "    print(\"-\", title.text)\n",
    "# 브라우저 종료하기\n",
    "browser.quit()"
   ]
  },
  {
   "cell_type": "markdown",
   "metadata": {},
   "source": [
    "* 네이버에 로그인해서 구매한 물건 목록 가져오기"
   ]
  },
  {
   "cell_type": "code",
   "execution_count": 26,
   "metadata": {},
   "outputs": [
    {
     "name": "stdout",
     "output_type": "stream",
     "text": [
      "로그인 페이지에 접근합니다.\n",
      "로그인 버튼을 클릭합니다.\n",
      "쇼핑 목록을 출력합니다.\n",
      "- 액자 나무이젤 받침대 / 미니나무이젤\n",
      "- 색안개꽃 드라이플라워 액자/액자세트\n",
      "- 미팩토리 돼지코팩!\n"
     ]
    }
   ],
   "source": [
    "url = \"https://nid.naver.com/nidlogin.login\"\n",
    "browser = webdriver.Chrome(chrome)\n",
    "browser.implicitly_wait(3)\n",
    "\n",
    "# 로그인 페이지에 접근하기\n",
    "browser.get(url)\n",
    "print(\"로그인 페이지에 접근합니다.\")\n",
    "\n",
    "# 텍스트 박스에 아이디와 비밀번호 입력하기\n",
    "element_id = browser.find_element_by_id(\"id\") # id 텍스트 입력 상자\n",
    "element_id.clear()\n",
    "element_id.send_keys(\"Your Naver ID\")\n",
    "\n",
    "element_pw = browser.find_element_by_id(\"pw\") # 비밀번호 텍스트 입력 상자\n",
    "element_pw.clear()\n",
    "element_pw.send_keys(\"Your Naver Password\")\n",
    "\n",
    "# 입력 양식 전송해서 로그인하기\n",
    "button = browser.find_element_by_css_selector(\"input.btn_global[type=submit]\")\n",
    "button.submit()\n",
    "print(\"로그인 버튼을 클릭합니다.\")\n",
    "\n",
    "# 쇼핑 페이지의 데이터 가져오기\n",
    "shopping_url = \"https://order.pay.naver.com/home/search?serviceGroup=SHOPPING\"\n",
    "date_range = \"&range.fromDate=2016.01.01&range.toDate=2017.08.30&tabMenu=SHOPPING\"\n",
    "url = shopping_url + date_range\n",
    "browser.get(url)\n",
    "\n",
    "# 쇼핑 목록 출력하기\n",
    "products = browser.find_elements_by_css_selector(\".p_info span\")\n",
    "print(\"쇼핑 목록을 출력합니다.\")\n",
    "for product in products:\n",
    "    if product.text != \"구매확정\":\n",
    "        print(\"-\", product.text)\n",
    "# 브라우저 종료하기\n",
    "browser.quit()"
   ]
  },
  {
   "cell_type": "markdown",
   "metadata": {},
   "source": [
    "* 자바스크립트 실행해보기\n",
    "    * Selenium이 다양한 기능을 제공하지만 원하는 기능이 없을 수도 있음.\n",
    "    * 이럴 때는 execute_script() 메서드를 사용\n",
    "    * 이 메서드를 사용하면 자바스크립트 코드를 실행할 수 있음."
   ]
  },
  {
   "cell_type": "code",
   "execution_count": 28,
   "metadata": {},
   "outputs": [
    {
     "name": "stdout",
     "output_type": "stream",
     "text": [
      "구글 웹사이트에 접근합니다.\n",
      "자바스크립트를 실행합니다.\n",
      "150\n"
     ]
    }
   ],
   "source": [
    "browser = webdriver.Chrome(chrome)\n",
    "browser.implicitly_wait(3)\n",
    "\n",
    "# 구글 홈페이지 열기\n",
    "print(\"구글 웹사이트에 접근합니다.\")\n",
    "browser.get(\"https://google.com\")\n",
    "\n",
    "# 자바스크립트 실행하기\n",
    "print(\"자바스크립트를 실행합니다.\")\n",
    "script = browser.execute_script(\"return 100 + 50\")\n",
    "print(script)\n",
    "\n",
    "# 브라우저 종료\n",
    "browser.quit()"
   ]
  }
 ],
 "metadata": {
  "kernelspec": {
   "display_name": "Python 3",
   "language": "python",
   "name": "python3"
  },
  "language_info": {
   "codemirror_mode": {
    "name": "ipython",
    "version": 3
   },
   "file_extension": ".py",
   "mimetype": "text/x-python",
   "name": "python",
   "nbconvert_exporter": "python",
   "pygments_lexer": "ipython3",
   "version": "3.5.3"
  }
 },
 "nbformat": 4,
 "nbformat_minor": 2
}
